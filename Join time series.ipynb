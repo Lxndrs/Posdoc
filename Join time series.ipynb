{
 "cells": [
  {
   "cell_type": "markdown",
   "id": "f343d9db",
   "metadata": {},
   "source": [
    "# Join three time series"
   ]
  },
  {
   "cell_type": "markdown",
   "id": "5efe2049",
   "metadata": {},
   "source": [
    "The purpose of this test is to join the time series of three consecutive days in case of the ionospheric perturbations were detected near the transition from one day to another (i.e near 0:00 or 24:00 UT) as we found in some cases with the Caribbean meteor. It's in a notebook since we don't know is this is gonna work."
   ]
  },
  {
   "cell_type": "code",
   "execution_count": 30,
   "id": "a79e7aeb",
   "metadata": {},
   "outputs": [],
   "source": [
    "import numpy as np\n",
    "from astropy.table import Table\n",
    "import matplotlib.pyplot as plt\n",
    "import pandas as pd"
   ]
  },
  {
   "cell_type": "markdown",
   "id": "b9d83637",
   "metadata": {},
   "source": [
    "## Test with Caribbean event, BARA station"
   ]
  },
  {
   "cell_type": "code",
   "execution_count": 2,
   "id": "17fc26f9",
   "metadata": {},
   "outputs": [],
   "source": [
    "f = open(\"./data/2019-06-22/set1/bara173-2019-06-22.Cmn\", \"r\")\n",
    "pf = open(\"./data/2019-06-22/set1/previous/bara172-2019-06-21.Cmn\", \"r\")\n",
    "nf = open(\"./data/2019-06-22/set1/next/bara174-2019-06-23.Cmn\")"
   ]
  },
  {
   "cell_type": "code",
   "execution_count": 3,
   "id": "6d4628c9",
   "metadata": {},
   "outputs": [],
   "source": [
    "f.readline()\n",
    "f.readline()\n",
    "f.readline()\n",
    "f.readline()\n",
    "raw_data = f.readlines()"
   ]
  },
  {
   "cell_type": "code",
   "execution_count": 4,
   "id": "a33ab83b",
   "metadata": {},
   "outputs": [
    {
     "data": {
      "text/plain": [
       "['MJdatet', 'Time', 'PRN', 'Az', 'Ele', 'Lat', 'Lon', 'Stec', 'Vtec', 'S4']"
      ]
     },
     "execution_count": 4,
     "metadata": {},
     "output_type": "execute_result"
    }
   ],
   "source": [
    "data = Table.read(raw_data, format=\"ascii\")\n",
    "data.keys()"
   ]
  },
  {
   "cell_type": "code",
   "execution_count": 5,
   "id": "c4e0d980",
   "metadata": {},
   "outputs": [],
   "source": [
    "pf.readline()\n",
    "pf.readline()\n",
    "pf.readline()\n",
    "pf.readline()\n",
    "P_raw_data = pf.readlines()"
   ]
  },
  {
   "cell_type": "code",
   "execution_count": 6,
   "id": "043816cd",
   "metadata": {},
   "outputs": [
    {
     "data": {
      "text/plain": [
       "['MJdatet', 'Time', 'PRN', 'Az', 'Ele', 'Lat', 'Lon', 'Stec', 'Vtec', 'S4']"
      ]
     },
     "execution_count": 6,
     "metadata": {},
     "output_type": "execute_result"
    }
   ],
   "source": [
    "p_data = Table.read(P_raw_data, format=\"ascii\")\n",
    "p_data.keys()"
   ]
  },
  {
   "cell_type": "code",
   "execution_count": 7,
   "id": "8e6edb18",
   "metadata": {},
   "outputs": [],
   "source": [
    "nf.readline()\n",
    "nf.readline()\n",
    "nf.readline()\n",
    "nf.readline()\n",
    "n_raw_data = nf.readlines()"
   ]
  },
  {
   "cell_type": "code",
   "execution_count": 8,
   "id": "375f1810",
   "metadata": {},
   "outputs": [
    {
     "data": {
      "text/plain": [
       "['MJdatet', 'Time', 'PRN', 'Az', 'Ele', 'Lat', 'Lon', 'Stec', 'Vtec', 'S4']"
      ]
     },
     "execution_count": 8,
     "metadata": {},
     "output_type": "execute_result"
    }
   ],
   "source": [
    "n_data = Table.read(n_raw_data, format=\"ascii\")\n",
    "n_data.keys()"
   ]
  },
  {
   "cell_type": "code",
   "execution_count": 9,
   "id": "e5b77048",
   "metadata": {},
   "outputs": [],
   "source": [
    "prn_mask = data[\"PRN\"] ==29\n",
    "p_prn_mask = p_data[\"PRN\"] ==29\n",
    "n_prn_mask = n_data[\"PRN\"] ==29"
   ]
  },
  {
   "cell_type": "code",
   "execution_count": 10,
   "id": "48337be1",
   "metadata": {},
   "outputs": [],
   "source": [
    "time = data[\"Time\"][prn_mask]\n",
    "time_corrector = time <0\n",
    "time[time_corrector] += 24.0 \n",
    "tec = data[\"Stec\"][prn_mask]\n",
    "p_time= p_data[\"Time\"][p_prn_mask]\n",
    "p_time_corrector = p_time < 0\n",
    "p_time[p_time_corrector] += 24.0\n",
    "p_time += -24.0\n",
    "n_time = n_data[\"Time\"][n_prn_mask]\n",
    "n_time_corrector = n_time < 0\n",
    "n_time[n_time_corrector] += 24.0\n",
    "n_time += 24.0\n",
    "p_tec = p_data[\"Stec\"][p_prn_mask]\n",
    "n_tec = n_data[\"Stec\"][n_prn_mask]"
   ]
  },
  {
   "cell_type": "code",
   "execution_count": 11,
   "id": "6a455bb2",
   "metadata": {},
   "outputs": [
    {
     "data": {
      "image/png": "[encoded data removed]",
      "text/plain": [
       "<Figure size 432x288 with 1 Axes>"
      ]
     },
     "metadata": {
      "needs_background": "light"
     },
     "output_type": "display_data"
    }
   ],
   "source": [
    "plt.plot(time, tec, \".\")\n",
    "plt.plot(p_time, p_tec, \".\")\n",
    "plt.plot(n_time, n_tec, \".\")\n",
    "start_time = 21 + 25/60. + 48/3600.\n",
    "time_mask = (time > start_time-1)\n",
    "n_time_mask = n_time < 2.0"
   ]
  },
  {
   "cell_type": "markdown",
   "id": "b84da7c4",
   "metadata": {},
   "source": [
    "Looks like sometimes join time series from adjacent days works and sometimes it doesn't. More precisely, if the time series lies near the day transition, then it may work."
   ]
  },
  {
   "cell_type": "markdown",
   "id": "b378ed2a",
   "metadata": {},
   "source": [
    "## Then, what to do?"
   ]
  },
  {
   "cell_type": "markdown",
   "id": "8e5b5877",
   "metadata": {},
   "source": [
    "A good idea is to detrend first all data (event date, previous day and next day), then with the detrended csv files create a new program that joins the event date detrended data with either next or previous day detrended data "
   ]
  },
  {
   "cell_type": "code",
   "execution_count": 12,
   "id": "4526e768",
   "metadata": {},
   "outputs": [
    {
     "data": {
      "text/plain": [
       "[<matplotlib.lines.Line2D at 0x1f94b543e50>]"
      ]
     },
     "execution_count": 12,
     "metadata": {},
     "output_type": "execute_result"
    },
    {
     "data": {
      "image/png": "[encoded data removed]",
      "text/plain": [
       "<Figure size 432x288 with 1 Axes>"
      ]
     },
     "metadata": {
      "needs_background": "light"
     },
     "output_type": "display_data"
    }
   ],
   "source": [
    "Time = np.concatenate([np.array(time[time_mask]), np.array(n_time[n_time_mask])])\n",
    "TEC = np.concatenate([np.array(tec[time_mask]), np.array(n_tec[n_time_mask])])\n",
    "plt.plot(Time, TEC, \".\")"
   ]
  },
  {
   "cell_type": "markdown",
   "id": "95c2f56c",
   "metadata": {},
   "source": [
    "## Test with RDAZ station"
   ]
  },
  {
   "cell_type": "markdown",
   "id": "ff8ff33c",
   "metadata": {},
   "source": [
    "Looks like this station is messing up with the detrending proccess, let's see what's happening."
   ]
  },
  {
   "cell_type": "code",
   "execution_count": 13,
   "id": "fd8858bb",
   "metadata": {},
   "outputs": [],
   "source": [
    "f = open(\"./data/2019-06-22/set1/rdaz173-2019-06-22.Cmn\", \"r\")\n",
    "pf = open(\"./data/2019-06-22/set1/previous/rdaz172-2019-06-21.Cmn\", \"r\")\n",
    "nf = open(\"./data/2019-06-22/set1/next/rdaz174-2019-06-23.Cmn\", \"r\")"
   ]
  },
  {
   "cell_type": "code",
   "execution_count": 14,
   "id": "cec52ba6",
   "metadata": {},
   "outputs": [],
   "source": [
    "f.readline()\n",
    "f.readline()\n",
    "f.readline()\n",
    "f.readline()\n",
    "raw_data = f.readlines()"
   ]
  },
  {
   "cell_type": "code",
   "execution_count": 15,
   "id": "2246b744",
   "metadata": {},
   "outputs": [
    {
     "data": {
      "text/plain": [
       "['MJdatet', 'Time', 'PRN', 'Az', 'Ele', 'Lat', 'Lon', 'Stec', 'Vtec', 'S4']"
      ]
     },
     "execution_count": 15,
     "metadata": {},
     "output_type": "execute_result"
    }
   ],
   "source": [
    "data = Table.read(raw_data, format=\"ascii\")\n",
    "data.keys()"
   ]
  },
  {
   "cell_type": "code",
   "execution_count": 16,
   "id": "cae68e76",
   "metadata": {},
   "outputs": [],
   "source": [
    "pf.readline()\n",
    "pf.readline()\n",
    "pf.readline()\n",
    "pf.readline()\n",
    "p_raw_data = pf.readlines()"
   ]
  },
  {
   "cell_type": "code",
   "execution_count": 17,
   "id": "4f3b38da",
   "metadata": {},
   "outputs": [
    {
     "data": {
      "text/plain": [
       "['MJdatet', 'Time', 'PRN', 'Az', 'Ele', 'Lat', 'Lon', 'Stec', 'Vtec', 'S4']"
      ]
     },
     "execution_count": 17,
     "metadata": {},
     "output_type": "execute_result"
    }
   ],
   "source": [
    "p_data = Table.read(p_raw_data, format=\"ascii\")\n",
    "p_data.keys()"
   ]
  },
  {
   "cell_type": "code",
   "execution_count": 18,
   "id": "799f5367",
   "metadata": {},
   "outputs": [],
   "source": [
    "nf.readline()\n",
    "nf.readline()\n",
    "nf.readline()\n",
    "nf.readline()\n",
    "n_raw_data = nf.readlines()"
   ]
  },
  {
   "cell_type": "code",
   "execution_count": 19,
   "id": "6f5a6ec9",
   "metadata": {},
   "outputs": [
    {
     "data": {
      "text/plain": [
       "['MJdatet', 'Time', 'PRN', 'Az', 'Ele', 'Lat', 'Lon', 'Stec', 'Vtec', 'S4']"
      ]
     },
     "execution_count": 19,
     "metadata": {},
     "output_type": "execute_result"
    }
   ],
   "source": [
    "n_data = Table.read(n_raw_data, format=\"ascii\")\n",
    "n_data.keys()"
   ]
  },
  {
   "cell_type": "code",
   "execution_count": 20,
   "id": "46165e03",
   "metadata": {},
   "outputs": [],
   "source": [
    "prn_mask = data[\"PRN\"] ==30\n",
    "p_prn_mask = p_data[\"PRN\"] ==30\n",
    "n_prn_mask = n_data[\"PRN\"] ==30"
   ]
  },
  {
   "cell_type": "code",
   "execution_count": 21,
   "id": "28b0bfe8",
   "metadata": {},
   "outputs": [],
   "source": [
    "time = data[\"Time\"][prn_mask]\n",
    "time_corrector = time <0\n",
    "time[time_corrector] += 24.0 \n",
    "tec = data[\"Stec\"][prn_mask]\n",
    "p_time= p_data[\"Time\"][p_prn_mask]\n",
    "p_time_corrector = p_time < 0\n",
    "p_time[p_time_corrector] += 24.0\n",
    "p_time += -24.0\n",
    "n_time = n_data[\"Time\"][n_prn_mask]\n",
    "n_time_corrector = n_time < 0\n",
    "n_time[n_time_corrector] += 24.0\n",
    "n_time += 24.0\n",
    "p_tec = p_data[\"Stec\"][p_prn_mask]\n",
    "n_tec = n_data[\"Stec\"][n_prn_mask]"
   ]
  },
  {
   "cell_type": "code",
   "execution_count": 22,
   "id": "25fc7404",
   "metadata": {},
   "outputs": [
    {
     "data": {
      "image/png": "[encoded data removed]",
      "text/plain": [
       "<Figure size 432x288 with 1 Axes>"
      ]
     },
     "metadata": {
      "needs_background": "light"
     },
     "output_type": "display_data"
    }
   ],
   "source": [
    "plt.plot(time, tec, \".\")\n",
    "#plt.plot(p_time, p_tec, \".\")\n",
    "plt.plot(n_time, n_tec, \".\")\n",
    "start_time = 21 + 25/60. + 48/3600.\n",
    "time_mask = (time > start_time-1)\n",
    "n_time_mask = n_time < 2.0"
   ]
  },
  {
   "cell_type": "code",
   "execution_count": 23,
   "id": "bffddc4c",
   "metadata": {},
   "outputs": [
    {
     "data": {
      "text/plain": [
       "0"
      ]
     },
     "execution_count": 23,
     "metadata": {},
     "output_type": "execute_result"
    }
   ],
   "source": [
    "len(n_time[n_time_mask])"
   ]
  },
  {
   "cell_type": "markdown",
   "id": "d3cb7e30",
   "metadata": {},
   "source": [
    "looks like when the program tries to detrend the data of the next day of the event it finds an empty array and crashes"
   ]
  },
  {
   "cell_type": "code",
   "execution_count": 24,
   "id": "721f363b",
   "metadata": {},
   "outputs": [],
   "source": [
    "a = True\n",
    "b= False"
   ]
  },
  {
   "cell_type": "code",
   "execution_count": 25,
   "id": "7c3074da",
   "metadata": {},
   "outputs": [
    {
     "name": "stdout",
     "output_type": "stream",
     "text": [
      "False\n"
     ]
    }
   ],
   "source": [
    "print(b or b)"
   ]
  },
  {
   "cell_type": "code",
   "execution_count": 35,
   "id": "253f5144",
   "metadata": {},
   "outputs": [],
   "source": [
    "f= pd.read_csv(\"./data/2019-06-22/set1/2019-06-22_21.43_detrended-sTEC.csv\")\n",
    "nf = pd.read_csv(\"./data/2019-06-22/set1/next/2019-06-22_next_detrended-sTEC.csv\")"
   ]
  },
  {
   "cell_type": "code",
   "execution_count": 32,
   "id": "2968f388",
   "metadata": {},
   "outputs": [
    {
     "data": {
      "text/plain": [
       "Index(['Station', 'Time', 'PRN', 'Latitude', 'Longitude', 'sTEC'], dtype='object')"
      ]
     },
     "execution_count": 32,
     "metadata": {},
     "output_type": "execute_result"
    }
   ],
   "source": [
    "nf.keys()"
   ]
  },
  {
   "cell_type": "code",
   "execution_count": 40,
   "id": "36ca1c73",
   "metadata": {},
   "outputs": [
    {
     "data": {
      "text/plain": [
       "[<matplotlib.lines.Line2D at 0x1f94b984b80>]"
      ]
     },
     "execution_count": 40,
     "metadata": {},
     "output_type": "execute_result"
    },
    {
     "data": {
      "image/png": "[encoded data removed]",
      "text/plain": [
       "<Figure size 432x288 with 1 Axes>"
      ]
     },
     "metadata": {
      "needs_background": "light"
     },
     "output_type": "display_data"
    }
   ],
   "source": [
    "prn_mask = f[\"PRN\"]==6\n",
    "n_prn_mask = nf[\"PRN\"] ==6\n",
    "s_mask = nf[\"Station\"] == \"bara\"\n",
    "time = f[\"Time\"][prn_mask&s_mask]\n",
    "tec = f[\"sTEC\"][prn_mask&s_mask]\n",
    "n_time = nf[\"Time\"][n_prn_mask&s_mask]\n",
    "n_tec = nf[\"sTEC\"][n_prn_mask&s_mask]\n",
    "#plt.plot(time, tec)\n",
    "plt.plot(n_time+24.0, n_tec)"
   ]
  },
  {
   "cell_type": "code",
   "execution_count": 44,
   "id": "c6a57a53",
   "metadata": {},
   "outputs": [],
   "source": [
    "f = open(\"./data/2019-06-22/set1/bara173-2019-06-22.Cmn\", \"r\")\n",
    "pf = open(\"./data/2019-06-22/set1/previous/bara172-2019-06-21.Cmn\", \"r\")\n",
    "nf = open(\"./data/2019-06-22/set1/next/bara174-2019-06-23.Cmn\", \"r\")"
   ]
  },
  {
   "cell_type": "code",
   "execution_count": 45,
   "id": "e56f5ce2",
   "metadata": {},
   "outputs": [],
   "source": [
    "f.readline()\n",
    "f.readline()\n",
    "f.readline()\n",
    "f.readline()\n",
    "raw_data = f.readlines()\n",
    "pf.readline()\n",
    "pf.readline()\n",
    "pf.readline()\n",
    "pf.readline()\n",
    "p_raw_data = pf.readlines()\n",
    "nf.readline()\n",
    "nf.readline()\n",
    "nf.readline()\n",
    "nf.readline()\n",
    "n_raw_data = nf.readlines()"
   ]
  },
  {
   "cell_type": "code",
   "execution_count": 46,
   "id": "d9f6a18b",
   "metadata": {},
   "outputs": [],
   "source": [
    "data = Table.read(raw_data, format=\"ascii\")\n",
    "p_data = Table.read(p_raw_data, format=\"ascii\")\n",
    "n_data = Table.read(n_raw_data, format=\"ascii\")"
   ]
  },
  {
   "cell_type": "code",
   "execution_count": 47,
   "id": "2a415130",
   "metadata": {},
   "outputs": [],
   "source": [
    "prn_mask = data[\"PRN\"] ==6\n",
    "p_prn_mask = p_data[\"PRN\"] ==6\n",
    "n_prn_mask = n_data[\"PRN\"] ==6"
   ]
  },
  {
   "cell_type": "code",
   "execution_count": 48,
   "id": "81146e83",
   "metadata": {},
   "outputs": [],
   "source": [
    "time = data[\"Time\"][prn_mask]\n",
    "time_corrector = time <0\n",
    "time[time_corrector] += 24.0 \n",
    "tec = data[\"Stec\"][prn_mask]\n",
    "p_time= p_data[\"Time\"][p_prn_mask]\n",
    "p_time_corrector = p_time < 0\n",
    "p_time[p_time_corrector] += 24.0\n",
    "p_time += -24.0\n",
    "n_time = n_data[\"Time\"][n_prn_mask]\n",
    "n_time_corrector = n_time < 0\n",
    "n_time[n_time_corrector] += 24.0\n",
    "n_time += 24.0\n",
    "p_tec = p_data[\"Stec\"][p_prn_mask]\n",
    "n_tec = n_data[\"Stec\"][n_prn_mask]"
   ]
  },
  {
   "cell_type": "code",
   "execution_count": 49,
   "id": "bafa2dfb",
   "metadata": {},
   "outputs": [
    {
     "data": {
      "image/png": "[encoded data removed]",
      "text/plain": [
       "<Figure size 432x288 with 1 Axes>"
      ]
     },
     "metadata": {
      "needs_background": "light"
     },
     "output_type": "display_data"
    }
   ],
   "source": [
    "plt.plot(time, tec, \".\")\n",
    "#plt.plot(p_time, p_tec, \".\")\n",
    "plt.plot(n_time, n_tec, \".\")\n",
    "start_time = 21 + 25/60. + 48/3600.\n",
    "time_mask = (time > start_time-1)\n",
    "n_time_mask = n_time < 2.0"
   ]
  },
  {
   "cell_type": "code",
   "execution_count": null,
   "id": "2a9efc6f",
   "metadata": {},
   "outputs": [],
   "source": []
  }
 ],
 "metadata": {
  "kernelspec": {
   "display_name": "Python 3 (ipykernel)",
   "language": "python",
   "name": "python3"
  },
  "language_info": {
   "codemirror_mode": {
    "name": "ipython",
    "version": 3
   },
   "file_extension": ".py",
   "mimetype": "text/x-python",
   "name": "python",
   "nbconvert_exporter": "python",
   "pygments_lexer": "ipython3",
   "version": "3.9.7"
  }
 },
 "nbformat": 4,
 "nbformat_minor": 5
}
