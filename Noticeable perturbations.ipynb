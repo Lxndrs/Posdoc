{
 "cells": [
  {
   "cell_type": "markdown",
   "id": "86256be0",
   "metadata": {},
   "source": [
    "# Noticeable perturbations"
   ]
  },
  {
   "cell_type": "markdown",
   "id": "91e93de4",
   "metadata": {},
   "source": [
    "In this piece of notebook we will plot the perturbations which break the actual y limits and need to be plotted apart because its amplitude is much larger than the other perturbations."
   ]
  },
  {
   "cell_type": "markdown",
   "id": "c80f1922",
   "metadata": {},
   "source": [
    "Now we will list this kind of perturbations, by station and PRN which made the detection:\n",
    "\n",
    "- Station BARA\n",
    "    - PRN 25 --> Crap\n",
    "    - PRN 21 --> Interesting\n",
    "    - PRN 12 --> Crap\n",
    "- Station CN05\n",
    "    - PRN 25 --> Crap\n",
    "    - PRN 12 --> Crap\n",
    "- Station CN27\n",
    "    - PRN 25 --> Crap \n",
    "    - PRN 24 --> Interesting\n",
    "    - PRN 21 --> Interesting\n",
    "    - PRN 12 --> Crap\n",
    "- Station CRLR\n",
    "    - PRN 25 --> Crap\n",
    "- Station CRSE\n",
    "    - PRN 25 -->  Crap\n",
    "    - PRN 24 --> Interesting\n",
    "    - PRN 21 --> Interesting\n",
    "    - PRN 12 --> Crap\n",
    "- Station JME2\n",
    "    - PRN 25 --> Crap\n",
    "    - PRN 12 --> Crap\n",
    "    - PRN 1  --> Strange\n",
    "- Station LVEG\n",
    "    - PRN 18 --> Crap\n",
    "    - PRN 15 --> Interesting\n",
    "    - PRN 12 --> Crap\n",
    "- Station RDAZ\n",
    "    - PRN 25 --> Crap\n",
    "    - PRN 15 --> Interesting\n",
    "- Station RDF2\n",
    "    - PRN 29 --> Very Odd\n",
    "    - PRN 12 --> Crap\n",
    "- Station RDHI\n",
    "    - PRN 1  --> Interesting\n",
    "    - PRN 25 --> Crap\n",
    "    - PRN 24 --> Interesting\n",
    "- Station RDLT\n",
    "    - PRN 25 --> Crap \n",
    "    - PRN 24 --> Interesting\n",
    "    - PRN 12 --> Crap\n",
    "    - PRN 6  --> Interesting\n",
    "    - PRN 1  --> Interesting\n",
    "- Station RDMA\n",
    "    - PRN 25 --> Crap\n",
    "    - PRN 24 --> Interesting\n",
    "    - PRN 12 --> Crap\n",
    "- Station RDMC\n",
    "    - PRN 25 --> Crap\n",
    "    - PRN 20 --> Interesting\n",
    "    - PRN 12 --> Crap\n",
    "- Station RDMS\n",
    "    - PRN 25 --> Crap\n",
    "    - PRN 21 --> Interesting\n",
    "- Station RDNE\n",
    "    - PRN 25 --> Crap\n",
    "- Station RDSD\n",
    "    - PRN 29 --> Very odd\n",
    "    - PRN 25 --> Very odd\n",
    "    - PRN 21 --> Interesting\n",
    "    - PRN 12 --> Very odd\n",
    "- Station RDSF\n",
    "    - PRN 25 --> Crap\n",
    "    - PRN 6 --> Interesting\n",
    "- Station RDSJ\n",
    "    - PRN 25 --> Crap\n",
    "    - PRN 21 --> Interesting\n",
    "    - PRN 20 --> Interesting \n",
    "    - PRN 15 --> Interesting\n",
    "- Station SPED\n",
    "    - PRN 21 --> Interesting\n",
    "    - PRN 12 --> Very odd\n",
    "- Station SROD\n",
    "    - PRN 25 --> Crap\n",
    "    - PRN 15 --> Interesting\n",
    "- Station TGDR\n",
    "    - PRN 29 --> Crap\n",
    "    - PRN 12 --> Crap\n",
    "\n",
    "After analyzing the original signal versus the trend computed (to check trend quality) we found the following conclusions and their meaning:\n",
    "- Crap: There is an evident artifact in the trend computation that makes the resulting signal useless. This is the result of a large discontinuity that our detrending proccess tries to compensate unsuccessfully.\n",
    "- Interesting: The detrending process is adequated, in the worst case there is a small artifact present due to the presence of a sharp peak in the signal.\n",
    "- Very odd: Something strange happened during the detrending proccess. I suspect we detected a depletion (i.e a plasma bubble maybe)\n",
    "- Strange: A sharp discontinuity is present, but the trend follows the discontinuity as good as possible."
   ]
  },
  {
   "cell_type": "code",
   "execution_count": 1,
   "id": "7c006c3f",
   "metadata": {},
   "outputs": [],
   "source": [
    "import numpy as np\n",
    "import pandas as pd\n",
    "import matplotlib.pyplot as plt\n",
    "import seaborn as sns"
   ]
  },
  {
   "cell_type": "markdown",
   "id": "f66ded93",
   "metadata": {},
   "source": [
    "## Import file"
   ]
  },
  {
   "cell_type": "code",
   "execution_count": 2,
   "id": "b0d9b27c",
   "metadata": {},
   "outputs": [
    {
     "data": {
      "text/plain": [
       "Index(['Station', 'Time', 'PRN', 'Latitude', 'Longitude', 'sTEC'], dtype='object')"
      ]
     },
     "execution_count": 2,
     "metadata": {},
     "output_type": "execute_result"
    }
   ],
   "source": [
    "data = pd.read_csv(\"./data/2019-06-22/set1/next/next2019-06-22_21.43_detrended-sTEC.csv\")\n",
    "data.keys()"
   ]
  },
  {
   "cell_type": "code",
   "execution_count": 3,
   "id": "f0d43f1b",
   "metadata": {},
   "outputs": [],
   "source": [
    "dictionary = {\"BARA\":[12,21,25], \"CN05\":[12,25], \"CN27\":[12,21,24,25], \"CRLR\":[25], \"CRSE\":[12,21,24,25], \"JME2\":[1,12,25], \"LVEG\":[12,15,18], \"RDAZ\":[15,25], \"RDF2\":[12,29], \"RDHI\":[1,24,25], \"RDLT\":[1,6,12,24,25], \"RDMA\":[12,24,25], \"RDMC\":[21,25], \"RDMS\":[21,25], \"RDNE\":[25], \"RDSD\":[12,21,25,29], \"RDSF\":[6,25], \"RDSJ\":[15,20,21,25], \"SPED\":[12, 21], \"SROD\":[15, 25], \"TGDR\":[12,29]}"
   ]
  },
  {
   "cell_type": "code",
   "execution_count": 11,
   "id": "c8804ef8",
   "metadata": {},
   "outputs": [
    {
     "data": {
      "text/plain": [
       "<Figure size 432x288 with 0 Axes>"
      ]
     },
     "metadata": {},
     "output_type": "display_data"
    }
   ],
   "source": [
    "stations = np.unique(data[\"Station\"])\n",
    "sns.set_style(\"whitegrid\")\n",
    "for s in stations:\n",
    "    s_mask = data[\"Station\"] == s\n",
    "    PRNs = dictionary[s.upper()]\n",
    "    for p in PRNs:\n",
    "        prn_mask = data[\"PRN\"] == p\n",
    "        time = data[\"Time\"][s_mask & prn_mask]\n",
    "        stec = data[\"sTEC\"][s_mask & prn_mask]\n",
    "        plt.plot(time, stec)\n",
    "        plt.xlabel(\"UT (hours)\")\n",
    "        plt.ylabel(\"sTEC (TECU)\")\n",
    "        plt.title(\"{}-PRN {}\".format(s.upper(), p))\n",
    "        plt.savefig(\"./TEC_series/2019-06-22/set1/top/{}-PRN{}.pdf\".format(s.upper(),p))\n",
    "        plt.clf()"
   ]
  },
  {
   "cell_type": "code",
   "execution_count": 9,
   "id": "db82edef",
   "metadata": {},
   "outputs": [
    {
     "data": {
      "text/plain": [
       "21"
      ]
     },
     "execution_count": 9,
     "metadata": {},
     "output_type": "execute_result"
    }
   ],
   "source": []
  },
  {
   "cell_type": "code",
   "execution_count": null,
   "id": "38dd87d4",
   "metadata": {},
   "outputs": [],
   "source": []
  }
 ],
 "metadata": {
  "kernelspec": {
   "display_name": "Python 3 (ipykernel)",
   "language": "python",
   "name": "python3"
  },
  "language_info": {
   "codemirror_mode": {
    "name": "ipython",
    "version": 3
   },
   "file_extension": ".py",
   "mimetype": "text/x-python",
   "name": "python",
   "nbconvert_exporter": "python",
   "pygments_lexer": "ipython3",
   "version": "3.9.7"
  }
 },
 "nbformat": 4,
 "nbformat_minor": 5
}
