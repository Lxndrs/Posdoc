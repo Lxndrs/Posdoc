{
 "cells": [
  {
   "cell_type": "markdown",
   "id": "d05c3537",
   "metadata": {},
   "source": [
    "# Global Kp Index"
   ]
  },
  {
   "cell_type": "markdown",
   "id": "b819d33a",
   "metadata": {},
   "source": [
    "The purpose of this notebook is to plot in a bar graph of the Kp index of all the events at the time of such meteor fell."
   ]
  },
  {
   "cell_type": "markdown",
   "id": "edd574d1",
   "metadata": {},
   "source": [
    "|ID|Date|Time|\n",
    "|--|----|----|\n",
    "|GLM-00|2019-02-01|18:17:09|\n",
    "|GLM-01|2019-05-23|16:36:18|\n",
    "|GLM-02|2019-07-18|14:30:30|\n",
    "|GLM-03|2019-08-10|11:18:48|\n",
    "|GLM-04|2019-10-03|07:55:33|\n",
    "|GLM-05|2019-10-09|06:08:11|\n",
    "|GLM-06|2019-11-16|09:36:04|\n",
    "|GLM-07|2019-11-17|15:36:01|\n",
    "|GLM-08|2019-11-19|07:57:40|\n",
    "|GLM-09|2019-11-26|13:23:20|\n",
    "|GLM-10|2019-12-04|09:42:54|\n",
    "|GLM-11|2019-12-15|14:50:49|\n",
    "|GLM-12|2019-12-29|16:16:35|\n",
    "|GLM-13|2020-01-03|14:10:17|\n",
    "|GLM-14|2020-01-06|16:39:27|\n",
    "|GLM-15|2020-01-15|15:00:33|\n",
    "|GLM-16|2020-02-12|09:25:40|\n",
    "|GLM-17|2020-03-03|12:33:27|\n",
    "|GLM-18|2020-03-31|19:31:52|\n",
    "|GLM-19|2020-04-08|16:25:28|\n",
    "|GLM-20|2020-04-18|17:43:25|\n",
    "|GLM-21|2020-04-20|16:05:22|\n",
    "|GLM-22|2020-04-25|11:03:09|\n",
    "|GLM-23|2020-04-28|05:43:16|\n",
    "|GLM-24|2020-05-08|10:06:16|\n",
    "|GLM-25|2020-07-15|19:58:28|\n",
    "|GLM-26|2020-08-07|13:29:57|\n",
    "|GLM-27|2020-09-13|16:41:59|\n",
    "|GLM-28|2020-09-30|12:28:11|\n",
    "|GLM-29|2020-11-16|09:36:04|\n",
    "|GLM-30|2020-11-17|12:53:41|\n",
    "|GLM-31|2020-12-19|10:18:14|\n",
    "|GLM-32|2020-12-23|09:43:01|\n",
    "|GLM-33|2020-12-29|15:20:54|\n",
    "|GLM-34|2021-03-31|09:01:17|\n",
    "|USG-01|1995-08-05|17:14:10|\n",
    "|USG-02|1996-07-12|14:04:45|\n",
    "|USG-03|1997-10-09|18:47:15|\n",
    "|USG-04|2000-01-18|08:33:58|\n",
    "|USG-05|2000-08-25|01:12:25|\n",
    "|USG-06|2005-11-15|05:19:07|\n",
    "|USG-07|2015-07-19|07:06:26|\n",
    "|USG-09|2019-06-22|21:25:48|"
   ]
  },
  {
   "cell_type": "code",
   "execution_count": 4,
   "id": "3c76f9e1",
   "metadata": {},
   "outputs": [],
   "source": [
    "import numpy as np\n",
    "import matplotlib.pyplot as plt\n",
    "import glob"
   ]
  },
  {
   "cell_type": "markdown",
   "id": "bb66808f",
   "metadata": {},
   "source": [
    "## Initialize bolides data"
   ]
  },
  {
   "cell_type": "code",
   "execution_count": 3,
   "id": "c5e1f1d5",
   "metadata": {},
   "outputs": [],
   "source": [
    "dates = [\"1995-08-05\", \"1996-07-12\", \"1997-10-09\", \"2000-01-18\", \"2000-08-25\", \"2005-11-15\", \"2015-07-19\", \"2019-02-01\", \n",
    "         \"2019-05-23\", \"2019-06-22\", \"2019-07-18\", \"2019-08-10\", \"2019-10-03\", \"2019-10-09\", \"2019-11-16\", \"2019-11-17\", \n",
    "         \"2019-11-19\", \"2019-11-26\", \"2019-12-04\", \"2019-12-15\", \"2019-12-29\", \"2020-01-03\", \"2020-01-06\", \"2020-01-15\", \n",
    "         \"2020-02-12\", \"2020-03-03\", \"2020-03-31\", \"2020-04-08\", \"2020-04-18\", \"2020-04-20\", \"2020-04-25\", \"2020-04-28\", \n",
    "         \"2020-05-08\", \"2020-07-15\", \"2020-08-07\", \"2020-09-13\", \"2020-09-30\", \"2020-11-16\", \"2020-11-17\", \"2020-12-19\", \n",
    "         \"2020-12-23\", \"2020-12-29\", \"2021-03-31\"]\n",
    "\n",
    "times = {\"1995-08-05\":17+14/60.+10/3600., \"1996-07-12\":14+4./60.+45/3600., \"1997-10-09\":18+47/60.+15/3600., \n",
    "         \"2000-01-18\":8.+33/60.+58/3600., \"2000-08-25\":1.+12/60.+25/3600., \"2005-11-15\":5.+19/60.+7./3600., \n",
    "         \"2015-07-19\":7.+6./60.+26/3600., \"2019-02-01\":18+17/60.+9./3600., \"2019-05-23\":16+36/60.+18/3600., \n",
    "         \"2019-06-22\":21+25/60.+48/3600., \"2019-07-18\":14+30/60.+30/3600., \"2019-08-10\":11+18/60.+48/3600., \n",
    "         \"2019-10-03\":7.+55/60.+33/3600., \"2019-10-09\":6.+8./60.+11/3600., \"2019-11-16\":9.+36/60.+4./3600.,\n",
    "         \"2019-11-17\":15+36/60.+1./3600., \"2019-11-19\":7.+57/60.+40/3600., \"2019-11-26\":13+23/20.+48/3600., \n",
    "         \"2019-12-04\":9.+42/60.+48/3600., \"2019-12-15\":14+50/60.+49/3600., \"2019-12-29\":16+16/60.+35/3600.,\n",
    "         \"2020-01-03\":14+10/60.+17/3600., \"2020-01-06\":16+39/60.+27/3600., \"2020-01-15\":15+0./60.+33/3600., \n",
    "         \"2020-02-12\":9.+25/60.+40/3600., \"2020-03-03\":12+33/60.+27/3600., \"2020-03-31\":19+31/60.+52/3600., \n",
    "         \"2020-04-08\":16+25/60.+28/3600., \"2020-04-18\":17+43/60.+25/3600., \"2020-04-20\":15+5./60.+22/3600.,\n",
    "         \"2020-04-25\":11+3./60.+9./3600., \"2020-04-28\":5.+43/60.+16/3600., \"2020-05-08\":10+6./60.+16/3600., \n",
    "         \"2020-07-15\":19+58/60.+28/3600., \"2020-08-07\":13+29/60.+57/3600., \"2020-09-13\":16+41/60.+59/3600., \n",
    "         \"2020-09-30\":12+28/60.+11/3600., \"2020-11-16\":9.+35/60.+4./3600., \"2020-11-17\":12+53/60.+41/3600.,\n",
    "         \"2020-12-19\":10+18/60.+14/3600., \"2020-12-23\":9.+43/60.+1./3600., \"2020-12-29\":15+20/60.+54/3600., \n",
    "         \"2021-03-31\":9.+1./60.+17/3600.}"
   ]
  },
  {
   "cell_type": "markdown",
   "id": "2fe26cab",
   "metadata": {},
   "source": [
    "## open ftp files"
   ]
  },
  {
   "cell_type": "code",
   "execution_count": 21,
   "id": "a79526ad",
   "metadata": {},
   "outputs": [
    {
     "data": {
      "text/plain": [
       "['2019Q1_DGD.txt',\n",
       " '2020Q1_DGD.txt',\n",
       " '2020Q4_DGD.txt',\n",
       " '1996_DGD.txt',\n",
       " '2019Q3_DGD.txt',\n",
       " '2020Q3_DGD.txt',\n",
       " '2021Q1_DGD.txt',\n",
       " '2019Q2_DGD.txt',\n",
       " '2019Q4_DGD.txt',\n",
       " '1997_DGD.txt',\n",
       " '2020Q2_DGD.txt',\n",
       " '2015_DGD.txt',\n",
       " '2005_DGD.txt',\n",
       " '2000_DGD.txt',\n",
       " '1995_DGD.txt']"
      ]
     },
     "execution_count": 21,
     "metadata": {},
     "output_type": "execute_result"
    }
   ],
   "source": [
    "ftp_files = glob.glob(\"*DGD.txt\")\n",
    "ftp_files"
   ]
  },
  {
   "cell_type": "code",
   "execution_count": 35,
   "id": "854d951b",
   "metadata": {},
   "outputs": [],
   "source": [
    "ftp_dict = {\"1995-08-05\":ftp_files[-1], \"1996-07-12\":ftp_files[3], \"1997-10-09\":ftp_files[9], \n",
    "         \"2000-01-18\":ftp_files[-2], \"2000-08-25\":ftp_files[-2], \"2005-11-15\":ftp_files[-3], \n",
    "         \"2015-07-19\":ftp_files[-4], \"2019-02-01\":ftp_files[0], \"2019-05-23\":ftp_files[7], \n",
    "         \"2019-06-22\":ftp_files[7], \"2019-07-18\":ftp_files[4], \"2019-08-10\":ftp_files[4], \n",
    "         \"2019-10-03\":ftp_files[8], \"2019-10-09\":ftp_files[8], \"2019-11-16\":ftp_files[8],\n",
    "         \"2019-11-17\":ftp_files[8], \"2019-11-19\":ftp_files[8], \"2019-11-26\":ftp_files[8], \n",
    "         \"2019-12-04\":ftp_files[8], \"2019-12-15\":ftp_files[8], \"2019-12-29\":ftp_files[8],\n",
    "         \"2020-01-03\":ftp_files[1], \"2020-01-06\":ftp_files[1], \"2020-01-15\":ftp_files[1], \n",
    "         \"2020-02-12\":ftp_files[1], \"2020-03-03\":ftp_files[1], \"2020-03-31\":ftp_files[1], \n",
    "         \"2020-04-08\":ftp_files[-5], \"2020-04-18\":ftp_files[-5], \"2020-04-20\":ftp_files[-5],\n",
    "         \"2020-04-25\":ftp_files[-5], \"2020-04-28\":ftp_files[-5], \"2020-05-08\":ftp_files[-5], \n",
    "         \"2020-07-15\":ftp_files[5], \"2020-08-07\":ftp_files[5], \"2020-09-13\":ftp_files[5], \n",
    "         \"2020-09-30\":ftp_files[5], \"2020-11-16\":ftp_files[2], \"2020-11-17\":ftp_files[2],\n",
    "         \"2020-12-19\":ftp_files[2], \"2020-12-23\":ftp_files[2], \"2020-12-29\":ftp_files[2], \n",
    "         \"2021-03-31\":ftp_files[6]}"
   ]
  },
  {
   "cell_type": "code",
   "execution_count": 50,
   "id": "8ea0ef33",
   "metadata": {},
   "outputs": [],
   "source": [
    "mdict = {\"01\":\"01\", \"02\":\"02\", \"03\":\"03\", \"04\":\"04\", \"05\":\"05\", \"06\":\"06\", \"07\":\"07\", \"08\":\"08\", \"09\":\"09\", \n",
    "         \"10\":\"10\", \"11\":\"11\", \"12\":\"12\", \"Jan\":\"01\", \"Feb\":\"02\", \"Mar\":\"03\", \"Apr\":\"04\", \"May\":\"05\", \"Jun\":\"06\",\n",
    "        \"Jul\":\"07\", \"Aug\": \"08\", \"Sep\":\"09\", \"Oct\":\"10\", \"Nov\":\"11\", \"Dec\":\"12\"}"
   ]
  },
  {
   "cell_type": "code",
   "execution_count": 87,
   "id": "b8f04c22",
   "metadata": {},
   "outputs": [],
   "source": [
    "Kp =[]\n",
    "for date in dates:\n",
    "    f = open(ftp_dict[date], \"r\")\n",
    "    for i in range(12):\n",
    "        f.readline()\n",
    "    raw_data = f.readlines()\n",
    "    for line in raw_data:\n",
    "        k_date = line.split()[0:3]\n",
    "        if (ftp_dict[date][0:4]==\"1995\")|(ftp_dict[date][0:4]==\"1996\"):\n",
    "            day, month, year = k_date[0], k_date[1], \"19\"+k_date[2]\n",
    "            Kp_Arr = line.split()[-1]\n",
    "            Kp_arr = Kp_Arr.split(\"-\")\n",
    "        else:\n",
    "            year, month, day = k_date[0], k_date[1], k_date[2]\n",
    "            Kp_arr = line.split()[-8:]\n",
    "        kdate = \"{}-{}-{}\".format(year, mdict[month], day)\n",
    "        if kdate == date:\n",
    "            if times[date] < 3.:\n",
    "                Kp.append(int(Kp_arr[0]))\n",
    "            elif times[date] < 6.:\n",
    "                Kp.append(int(Kp_arr[1]))\n",
    "            elif times[date] < 9.:\n",
    "                Kp.append(int(Kp_arr[2]))\n",
    "            elif times[date] < 12.:\n",
    "                Kp.append(int(Kp_arr[3]))\n",
    "            elif times[date] < 15.:\n",
    "                Kp.append(int(Kp_arr[4]))\n",
    "            elif times[date] < 18.:\n",
    "                Kp.append(int(Kp_arr[-3]))\n",
    "            elif times[date] < 21.:\n",
    "                Kp.append(int(Kp_arr[-2]))\n",
    "            else:\n",
    "                Kp.append(int(Kp_arr[-1]))"
   ]
  },
  {
   "cell_type": "code",
   "execution_count": 109,
   "id": "33271819",
   "metadata": {},
   "outputs": [
    {
     "data": {
      "image/png": "[encoded data removed]",
      "text/plain": [
       "<Figure size 720x432 with 1 Axes>"
      ]
     },
     "metadata": {
      "needs_background": "light"
     },
     "output_type": "display_data"
    }
   ],
   "source": [
    "x = np.arange(len(Kp))\n",
    "fig = plt.figure()\n",
    "ax = fig.add_subplot(111)\n",
    "bar = ax.bar(x, Kp, width=0.5)\n",
    "for i,k in enumerate(Kp):\n",
    "    if k ==4:\n",
    "        bar[i].set_color(\"y\")\n",
    "    elif k > 4:\n",
    "        bar[i].set_color(\"r\")\n",
    "    else:\n",
    "        bar[i].set_color(\"g\")\n",
    "ax.set_ylim(0, 10.5)\n",
    "ax.set_yticks(np.arange(11))\n",
    "ax.set_ylabel(\"Kp Index\")\n",
    "ax.set_xticks(x, dates, rotation=90)\n",
    "ax.set_title(\"Estimated Planetary K Index for bolides fragmentation date and time\")\n",
    "fig.set_size_inches(10, 6)\n",
    "fig.tight_layout()\n",
    "fig.savefig(\"sample_KP_index.pdf\");"
   ]
  },
  {
   "cell_type": "code",
   "execution_count": null,
   "id": "04b62f50",
   "metadata": {},
   "outputs": [],
   "source": []
  }
 ],
 "metadata": {
  "kernelspec": {
   "display_name": "Python 3 (ipykernel)",
   "language": "python",
   "name": "python3"
  },
  "language_info": {
   "codemirror_mode": {
    "name": "ipython",
    "version": 3
   },
   "file_extension": ".py",
   "mimetype": "text/x-python",
   "name": "python",
   "nbconvert_exporter": "python",
   "pygments_lexer": "ipython3",
   "version": "3.9.12"
  }
 },
 "nbformat": 4,
 "nbformat_minor": 5
}
