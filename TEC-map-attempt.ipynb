{
 "cells": [
  {
   "cell_type": "markdown",
   "id": "1eb9f255",
   "metadata": {},
   "source": [
    "# TEC maps (New idea)"
   ]
  },
  {
   "cell_type": "markdown",
   "id": "ee3801ef",
   "metadata": {},
   "source": [
    "Now the idea is something I don't know how I didn't think before about: Make the vTEC or sTEC data and coordinates of each station file for one specific instant.And then loop for time and make a \"movie\" of the density distribution."
   ]
  },
  {
   "cell_type": "code",
   "execution_count": 1,
   "id": "c3a53826",
   "metadata": {},
   "outputs": [],
   "source": [
    "import seaborn as sns\n",
    "import numpy as np\n",
    "import pandas as pd\n",
    "import shapefile as shp\n",
    "import matplotlib.pyplot as plt\n",
    "from plotfullmap import plot_map\n",
    "import argparse\n",
    "from astropy.table import Table\n",
    "import glob\n",
    "import matplotlib.cm as cm\n",
    "from scipy.interpolate import griddata, interp1d\n",
    "from midpoint import MidpointNormalize\n",
    "import datetime\n",
    "from scipy.integrate import quad"
   ]
  },
  {
   "cell_type": "markdown",
   "id": "46c2bc4c",
   "metadata": {},
   "source": [
    "## Read csv data with the set 1 detrended data"
   ]
  },
  {
   "cell_type": "code",
   "execution_count": 3,
   "id": "39da2335",
   "metadata": {},
   "outputs": [],
   "source": [
    "set1 = pd.read_csv(\"./data/2019-06-22/set1/2019-06-22_21.43_detrended-sTEC.csv\")\n",
    "set2 = pd.read_csv(\"./data/2019-06-22/set2/2019-06-22_21.43_detrended-sTEC.csv\")\n",
    "set3 = pd.read_csv(\"./data/2019-06-22/set3/2019-06-22_21.43_detrended-sTEC.csv\")\n",
    "set4 = pd.read_csv(\"./data/2019-06-22/set4/2019-06-22_21.43_detrended-sTEC.csv\")\n",
    "set5 = pd.read_csv(\"./data/2019-06-22/set5/2019-06-22_21.43_detrended-sTEC.csv\")"
   ]
  },
  {
   "cell_type": "code",
   "execution_count": 8,
   "id": "e5ccc6ae",
   "metadata": {},
   "outputs": [
    {
     "data": {
      "text/html": [
       "<div>\n",
       "<style scoped>\n",
       "    .dataframe tbody tr th:only-of-type {\n",
       "        vertical-align: middle;\n",
       "    }\n",
       "\n",
       "    .dataframe tbody tr th {\n",
       "        vertical-align: top;\n",
       "    }\n",
       "\n",
       "    .dataframe thead th {\n",
       "        text-align: right;\n",
       "    }\n",
       "</style>\n",
       "<table border=\"1\" class=\"dataframe\">\n",
       "  <thead>\n",
       "    <tr style=\"text-align: right;\">\n",
       "      <th></th>\n",
       "      <th>Station</th>\n",
       "      <th>Time</th>\n",
       "      <th>PRN</th>\n",
       "      <th>Latitude</th>\n",
       "      <th>Longitude</th>\n",
       "      <th>sTEC</th>\n",
       "    </tr>\n",
       "  </thead>\n",
       "  <tbody>\n",
       "    <tr>\n",
       "      <th>16</th>\n",
       "      <td>bara</td>\n",
       "      <td>20.5</td>\n",
       "      <td>2</td>\n",
       "      <td>20.718</td>\n",
       "      <td>-74.091</td>\n",
       "      <td>-0.000082</td>\n",
       "    </tr>\n",
       "    <tr>\n",
       "      <th>872</th>\n",
       "      <td>bara</td>\n",
       "      <td>20.5</td>\n",
       "      <td>5</td>\n",
       "      <td>15.791</td>\n",
       "      <td>-73.398</td>\n",
       "      <td>0.008912</td>\n",
       "    </tr>\n",
       "    <tr>\n",
       "      <th>1728</th>\n",
       "      <td>bara</td>\n",
       "      <td>20.5</td>\n",
       "      <td>6</td>\n",
       "      <td>21.442</td>\n",
       "      <td>-70.632</td>\n",
       "      <td>0.017449</td>\n",
       "    </tr>\n",
       "    <tr>\n",
       "      <th>2584</th>\n",
       "      <td>bara</td>\n",
       "      <td>20.5</td>\n",
       "      <td>9</td>\n",
       "      <td>18.811</td>\n",
       "      <td>-64.985</td>\n",
       "      <td>-0.012984</td>\n",
       "    </tr>\n",
       "    <tr>\n",
       "      <th>3077</th>\n",
       "      <td>bara</td>\n",
       "      <td>20.5</td>\n",
       "      <td>12</td>\n",
       "      <td>22.089</td>\n",
       "      <td>-75.552</td>\n",
       "      <td>0.018567</td>\n",
       "    </tr>\n",
       "    <tr>\n",
       "      <th>...</th>\n",
       "      <td>...</td>\n",
       "      <td>...</td>\n",
       "      <td>...</td>\n",
       "      <td>...</td>\n",
       "      <td>...</td>\n",
       "      <td>...</td>\n",
       "    </tr>\n",
       "    <tr>\n",
       "      <th>162444</th>\n",
       "      <td>tgdr</td>\n",
       "      <td>20.5</td>\n",
       "      <td>6</td>\n",
       "      <td>21.441</td>\n",
       "      <td>-70.626</td>\n",
       "      <td>-0.018429</td>\n",
       "    </tr>\n",
       "    <tr>\n",
       "      <th>163300</th>\n",
       "      <td>tgdr</td>\n",
       "      <td>20.5</td>\n",
       "      <td>9</td>\n",
       "      <td>18.810</td>\n",
       "      <td>-64.980</td>\n",
       "      <td>0.054308</td>\n",
       "    </tr>\n",
       "    <tr>\n",
       "      <th>163785</th>\n",
       "      <td>tgdr</td>\n",
       "      <td>20.5</td>\n",
       "      <td>12</td>\n",
       "      <td>22.089</td>\n",
       "      <td>-75.546</td>\n",
       "      <td>0.086231</td>\n",
       "    </tr>\n",
       "    <tr>\n",
       "      <th>165395</th>\n",
       "      <td>tgdr</td>\n",
       "      <td>20.5</td>\n",
       "      <td>17</td>\n",
       "      <td>18.549</td>\n",
       "      <td>-68.476</td>\n",
       "      <td>0.028231</td>\n",
       "    </tr>\n",
       "    <tr>\n",
       "      <th>165973</th>\n",
       "      <td>tgdr</td>\n",
       "      <td>20.5</td>\n",
       "      <td>19</td>\n",
       "      <td>19.417</td>\n",
       "      <td>-69.405</td>\n",
       "      <td>0.018936</td>\n",
       "    </tr>\n",
       "  </tbody>\n",
       "</table>\n",
       "<p>171 rows × 6 columns</p>\n",
       "</div>"
      ],
      "text/plain": [
       "       Station  Time  PRN  Latitude  Longitude      sTEC\n",
       "16        bara  20.5    2    20.718    -74.091 -0.000082\n",
       "872       bara  20.5    5    15.791    -73.398  0.008912\n",
       "1728      bara  20.5    6    21.442    -70.632  0.017449\n",
       "2584      bara  20.5    9    18.811    -64.985 -0.012984\n",
       "3077      bara  20.5   12    22.089    -75.552  0.018567\n",
       "...        ...   ...  ...       ...        ...       ...\n",
       "162444    tgdr  20.5    6    21.441    -70.626 -0.018429\n",
       "163300    tgdr  20.5    9    18.810    -64.980  0.054308\n",
       "163785    tgdr  20.5   12    22.089    -75.546  0.086231\n",
       "165395    tgdr  20.5   17    18.549    -68.476  0.028231\n",
       "165973    tgdr  20.5   19    19.417    -69.405  0.018936\n",
       "\n",
       "[171 rows x 6 columns]"
      ]
     },
     "execution_count": 8,
     "metadata": {},
     "output_type": "execute_result"
    }
   ],
   "source": [
    "t = 20.5\n",
    "set1[set1[\"Time\"]==t]"
   ]
  },
  {
   "cell_type": "markdown",
   "id": "dff0e9a4",
   "metadata": {},
   "source": [
    "## Now something simpler: plot recently created caribbean map"
   ]
  },
  {
   "cell_type": "code",
   "execution_count": 10,
   "id": "064c236b",
   "metadata": {},
   "outputs": [],
   "source": [
    "tab = Table.read(\"caribbean-map.tab\", format=\"ascii\")"
   ]
  },
  {
   "cell_type": "code",
   "execution_count": 11,
   "id": "a568f432",
   "metadata": {},
   "outputs": [
    {
     "data": {
      "text/plain": [
       "['Longitude', 'Latitude']"
      ]
     },
     "execution_count": 11,
     "metadata": {},
     "output_type": "execute_result"
    }
   ],
   "source": [
    "tab.keys()"
   ]
  },
  {
   "cell_type": "code",
   "execution_count": 13,
   "id": "aaf65907",
   "metadata": {},
   "outputs": [
    {
     "data": {
      "text/plain": [
       "[<matplotlib.lines.Line2D at 0x7fd02ca4c400>]"
      ]
     },
     "execution_count": 13,
     "metadata": {},
     "output_type": "execute_result"
    },
    {
     "data": {
      "image/png": "[encoded data removed]",
      "text/plain": [
       "<Figure size 432x288 with 1 Axes>"
      ]
     },
     "metadata": {
      "needs_background": "light"
     },
     "output_type": "display_data"
    }
   ],
   "source": [
    "plt.plot(tab[\"Longitude\"], tab[\"Latitude\"], \"k.\", ms=0.025)"
   ]
  },
  {
   "cell_type": "markdown",
   "id": "9a083da7",
   "metadata": {},
   "source": [
    "Success !!"
   ]
  },
  {
   "cell_type": "code",
   "execution_count": null,
   "id": "4ddc3f54",
   "metadata": {},
   "outputs": [],
   "source": []
  }
 ],
 "metadata": {
  "kernelspec": {
   "display_name": "Python 3 (ipykernel)",
   "language": "python",
   "name": "python3"
  },
  "language_info": {
   "codemirror_mode": {
    "name": "ipython",
    "version": 3
   },
   "file_extension": ".py",
   "mimetype": "text/x-python",
   "name": "python",
   "nbconvert_exporter": "python",
   "pygments_lexer": "ipython3",
   "version": "3.9.12"
  }
 },
 "nbformat": 4,
 "nbformat_minor": 5
}
