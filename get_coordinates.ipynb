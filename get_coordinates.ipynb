{
 "cells": [
  {
   "cell_type": "markdown",
   "id": "f5846b83",
   "metadata": {},
   "source": [
    "# Find latitude and longitude of set 1, PRN 13 detections"
   ]
  },
  {
   "cell_type": "markdown",
   "id": "41e2de96",
   "metadata": {},
   "source": [
    "At the next day to the meteor fall we suspect detection with all the set 1 stations with PRN 13. We computed the wavelet power spectrum for all the time series we got and found, but we need the Latitude and longitude for the time where the highest amplitude wavelet is found.\n",
    "\n",
    "Steps:\n",
    "\n",
    "- Read Cmn files\n",
    "- Mask PRN 13\n",
    "- Find the latitude and longitude at the corresponding time"
   ]
  },
  {
   "cell_type": "code",
   "execution_count": 7,
   "id": "68407f1e",
   "metadata": {},
   "outputs": [],
   "source": [
    "import numpy as np\n",
    "from astropy.table import Table\n",
    "import glob"
   ]
  },
  {
   "cell_type": "code",
   "execution_count": 13,
   "id": "f5b91ce8",
   "metadata": {},
   "outputs": [],
   "source": [
    "PRN_good = 13.\n",
    "time_dict = {\"bara\":2.491, \"cn05\":2.328, \"cn27\":2.264, \"crlr\":2.380, \"crse\":2.426, \"jme2\":2.530, \"lveg\":2.234, \n",
    "             \"rdaz\":2.449, \"rdf2\":2.468, \"rdhi\":2.368, \"rdlt\":2.368, \"rdma\":2.557, \"rdmc\":2.996, \"rdms\":2.499, \n",
    "             \"rdne\":2.532, \"rdsd\":2.420, \"rdsf\":2.349, \"rdsj\":2.491, \"sped\":2.507, \"srod\":2.432, \"tgdr\":2.453}"
   ]
  },
  {
   "cell_type": "code",
   "execution_count": 17,
   "id": "fbc17d09",
   "metadata": {},
   "outputs": [
    {
     "name": "stdout",
     "output_type": "stream",
     "text": [
      "Station: rdf2, Latitude: 25.64, Longitude: -65.42\n",
      "Station: rdsj, Latitude: 25.37, Longitude: -65.66\n",
      "Station: rdms, Latitude: 25.18, Longitude: -63.80\n",
      "Station: sped, Latitude: 24.88, Longitude: -63.91\n",
      "Station: bara, Latitude: 24.91, Longitude: -65.47\n",
      "Station: rdhi, Latitude: 24.29, Longitude: -64.23\n",
      "Station: tgdr, Latitude: 24.72, Longitude: -65.72\n",
      "Station: rdne, Latitude: 25.39, Longitude: -65.48\n",
      "Station: rdsd, Latitude: 24.56, Longitude: -64.96\n",
      "Station: jme2, Latitude: 25.41, Longitude: -66.35\n",
      "Station: rdlt, Latitude: 24.94, Longitude: -65.01\n",
      "Station: rdmc, Latitude: 29.04, Longitude: -61.25\n",
      "Station: cn27, Latitude: 24.84, Longitude: -65.90\n",
      "Station: cn05, Latitude: 24.05, Longitude: -64.13\n",
      "Station: rdaz, Latitude: 24.81, Longitude: -65.46\n",
      "Station: lveg, Latitude: 24.44, Longitude: -66.52\n",
      "Station: srod, Latitude: 25.58, Longitude: -66.21\n",
      "Station: rdma, Latitude: 26.20, Longitude: -65.17\n",
      "Station: crlr, Latitude: 24.23, Longitude: -64.33\n",
      "Station: rdsf, Latitude: 24.92, Longitude: -65.73\n",
      "Station: crse, Latitude: 24.71, Longitude: -64.21\n"
     ]
    }
   ],
   "source": [
    "files = glob.glob(\"./data/2019-06-22/set1/next/*.Cmn\")\n",
    "for F in files:\n",
    "    s = F.split(\"/\")[-1][0:4]\n",
    "    f = open(F, \"r\")\n",
    "    for i in range(4):\n",
    "        f.readline()\n",
    "    raw_data = f.readlines()\n",
    "    tab = Table.read(raw_data, format=\"ascii\")\n",
    "    prn_mask = tab[\"PRN\"] == 13\n",
    "    time_mask = (tab[\"Time\"] > time_dict[s]-15./3600.) & (tab[\"Time\"] < time_dict[s]+15./3600.)\n",
    "    m_lat = np.mean(tab[\"Lat\"][prn_mask & time_mask])\n",
    "    m_lon = np.mean(tab[\"Lon\"][prn_mask & time_mask])\n",
    "    print(\"Station: {}, Latitude: {:.2f}, Longitude: {:.2f}\".format(s, m_lat, m_lon-360.))"
   ]
  },
  {
   "cell_type": "code",
   "execution_count": null,
   "id": "8ed5cdab",
   "metadata": {},
   "outputs": [],
   "source": []
  }
 ],
 "metadata": {
  "kernelspec": {
   "display_name": "Python 3 (ipykernel)",
   "language": "python",
   "name": "python3"
  },
  "language_info": {
   "codemirror_mode": {
    "name": "ipython",
    "version": 3
   },
   "file_extension": ".py",
   "mimetype": "text/x-python",
   "name": "python",
   "nbconvert_exporter": "python",
   "pygments_lexer": "ipython3",
   "version": "3.9.12"
  }
 },
 "nbformat": 4,
 "nbformat_minor": 5
}
