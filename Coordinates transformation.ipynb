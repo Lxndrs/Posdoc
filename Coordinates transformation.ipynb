{
 "cells": [
  {
   "cell_type": "markdown",
   "id": "31a1b9f7",
   "metadata": {},
   "source": [
    "# Local to equatorial coordinates transformation"
   ]
  },
  {
   "cell_type": "markdown",
   "id": "1260643e",
   "metadata": {},
   "source": [
    "For the second part of the posdoc I will recopile data from meteors observed by local witnesses and documented by the American Meteor Society, data available at https://www.amsmeteors.org/. The data includes date and time of the event, apparent magnitude, witness location, local coordinates of the trail, color of the radiation emmited by the bolide, etc. With this we expect to find other data commonly available from other databases such like NASA CNEOs and the Geostationary Lighning Mapper (GLM). The justification of this work is simply that the detectors used by NASA were planned initially to detect blasts originated by nuclear explosions, and were confidential for military purposes, when the data was released, were found out that many \"blasts\" were produced by bolides instead. The problem is that there are few recorded events in mexican territory in this database. The GLM has a lot of data in mexican territory, since it consists in geostationary satellites looking at the american continent. It gives bolide location of the fragmentation, date and time, duration and a light curve. The GLM started working in 2017, so there is no data before this year, and the GLM is designed to detect lightning, but is proven that also can detect bolides. Since the GLM is not designed specifically to detect bolides, it does not detect objects with magnitude greater than -14, but can not detect also too bright object, due to the saturation of the detectors. The result is that the database of the GLM consists in bolides between a few decimeters to a few meters. Bolides outside of this range are discarded. Using the data from the AMS we expect to fill the gaps in these databases and get valuable information. "
   ]
  },
  {
   "cell_type": "markdown",
   "id": "d24acd85",
   "metadata": {},
   "source": [
    "Here we will use reported the location of witnesses and reported coordinates of the object in order to find the fixed coordinates of the bolide trail."
   ]
  },
  {
   "cell_type": "markdown",
   "id": "0bbd8322",
   "metadata": {},
   "source": [
    "## Transformation from local coordinates to equatiorial"
   ]
  },
  {
   "cell_type": "markdown",
   "id": "2fd08c44",
   "metadata": {},
   "source": [
    "The tranformation from local coordinates to equatorial coordinates, is given by:\n",
    "\\begin{align}\n",
    "\\sin{h}\\cos{\\delta} &= \\sin{A}\\cos{a}\\\\\n",
    "\\cos{h}\\cos{\\delta} &= \\cos{A}\\cos{a}\\sin{\\phi} + \\sin{a}\\cos{\\phi} \\\\\n",
    "\\sin{\\delta} &= -\\cos{A}\\cos{a}\\cos{\\phi} + \\sin{a}\\sin{\\phi}\n",
    "\\end{align}\n",
    "\n",
    "Where $\\delta$ is the declination, $h$ is the hour angle, $A$ is the Azimuth, $a$ the elevation and $\\phi$ the observer latitude.\n",
    "\n",
    "The inverse transformation is given by:\n",
    "\\begin{align}\n",
    "\\sin{A}\\cos{a} &= \\sin{h}\\cos{\\delta} \\\\\n",
    "\\cos{A}\\cos{a} &= \\cos{h}\\cos{\\delta}\\sin{\\phi} - \\sin{\\delta}\\cos{\\phi} \\\\\n",
    "\\sin{a} &= \\cos{h}\\cos{\\delta}\\cos{\\phi} + \\sin{\\delta}\\sin{\\phi}\n",
    "\\end{align}"
   ]
  },
  {
   "cell_type": "markdown",
   "id": "c7fdcabe",
   "metadata": {},
   "source": [
    "From The other work we deduced a relation between hour angle and object latitude and observer latitude:\n",
    "\\begin{equation}\n",
    "h = \\lambda_{obs} - \\lambda_{obj}\n",
    "\\end{equation}\n",
    "where $\\lambda_{obs}$ $\\lambda_{obj}$ are the longitude of the observer and object, respectively.\n",
    "\n",
    "With this we get the hour angle and the declination as follows:\n",
    "\\begin{align}\n",
    "\\sin{\\delta} &= -\\cos{A}\\cos{a}\\cos{\\phi} + \\sin{a}\\sin{\\phi} \\\\\n",
    "\\cos{h} &= \\frac{\\sin{a} - \\sin{\\delta}\\sin{\\phi}}{\\cos{\\delta}\\cos{\\phi}}\n",
    "\\end{align}"
   ]
  },
  {
   "cell_type": "markdown",
   "id": "65010dfa",
   "metadata": {},
   "source": [
    "Let's try this theory with real data. We will use with one of the already recorded meteors data. The event with ID 2060-2022."
   ]
  },
  {
   "cell_type": "code",
   "execution_count": 1,
   "id": "56e6cd2c",
   "metadata": {},
   "outputs": [],
   "source": [
    "import numpy as np\n",
    "import matplotlib.pyplot as plt"
   ]
  },
  {
   "cell_type": "code",
   "execution_count": 2,
   "id": "b499d3e3",
   "metadata": {},
   "outputs": [],
   "source": [
    "def coord_transform(long, phi, Az, Alt):\n",
    "    \"\"\"\n",
    "    Inputs: \n",
    "    long: Longitude of the witness (degrees)\n",
    "    phi: Latitude of the witness (radians)\n",
    "    Az: Azimuth of the object (radians)\n",
    "    Alt: Altitude of the object (radians)\n",
    "    Output:\n",
    "    Lat_o: Transformaed Latitude (degrees)\n",
    "    Long_o: Transformed Longitude (degrees)\n",
    "    \"\"\"\n",
    "    \n",
    "    sin_delta = -np.cos(Az)*np.cos(Alt)*np.cos(phi) +np.sin(Alt)*np.sin(phi)\n",
    "    cos_delta = np.sqrt(1.-sin_delta**2)\n",
    "    cos_h = (np.sin(Alt)-sin_delta*np.sin(phi))/(cos_delta*np.cos(phi))\n",
    "    Lat_o = np.degrees(np.arcsin(sin_delta))\n",
    "    h = np.degrees(np.arccos(cos_h))\n",
    "    Lon_o = long -h\n",
    "    return Lon_o, Lat_o"
   ]
  },
  {
   "cell_type": "markdown",
   "id": "1f55208b",
   "metadata": {},
   "source": [
    "## Enter inputs of the meteor"
   ]
  },
  {
   "cell_type": "code",
   "execution_count": 3,
   "id": "e50f6c26",
   "metadata": {},
   "outputs": [],
   "source": [
    "w_latitude = np.array([26.14, 28.03, 30.22, 30.16, 30.08])\n",
    "w_longitude = np.array([-97.63, -97.52, -96.31, -97.86, -99.22])\n",
    "Az_0 = np.array([25., np.nan, 233.13, 211.15, 174.61])\n",
    "Az_f = np.array([10., 324.46, 293.89, 261.15, 177.1])\n",
    "Alt_0 = np.array([15., 44., 38., 45., 50.])\n",
    "Alt_f = np.array([9., 38., np.nan, 10., 21.])"
   ]
  },
  {
   "cell_type": "code",
   "execution_count": 4,
   "id": "91a22b83",
   "metadata": {},
   "outputs": [],
   "source": [
    "lon_0, lat_0 = coord_transform(w_longitude, np.radians(w_latitude), np.radians(Az_0), np.radians(Alt_0))\n",
    "lon_f, lat_f = coord_transform(w_longitude, np.radians(w_latitude), np.radians(Az_f), np.radians(Alt_f))"
   ]
  },
  {
   "cell_type": "code",
   "execution_count": 5,
   "id": "a4bae995",
   "metadata": {},
   "outputs": [
    {
     "data": {
      "text/plain": [
       "[<matplotlib.lines.Line2D at 0x93306d0>,\n",
       " <matplotlib.lines.Line2D at 0x9330790>,\n",
       " <matplotlib.lines.Line2D at 0x9330850>,\n",
       " <matplotlib.lines.Line2D at 0x9330910>,\n",
       " <matplotlib.lines.Line2D at 0x93309d0>]"
      ]
     },
     "execution_count": 5,
     "metadata": {},
     "output_type": "execute_result"
    },
    {
     "data": {
      "image/png": "[encoded data removed]",
      "text/plain": [
       "<Figure size 432x288 with 1 Axes>"
      ]
     },
     "metadata": {
      "needs_background": "light"
     },
     "output_type": "display_data"
    }
   ],
   "source": [
    "#plt.plot(w_longitude, w_latitude, \"ro\")\n",
    "plt.plot([lon_0, lon_f], [lat_0, lat_f])"
   ]
  },
  {
   "cell_type": "markdown",
   "id": "c3ea7b19",
   "metadata": {},
   "source": [
    "## Try with other meteor (740-2022)"
   ]
  },
  {
   "cell_type": "code",
   "execution_count": 131,
   "id": "20715a17",
   "metadata": {},
   "outputs": [],
   "source": [
    "w_latitude = np.array([30.27, 28.15, 29.68, 29.57, 33.65])\n",
    "w_longitude = np.array([-97.75, -97.88, -95.89, -95.07, -96.52])\n",
    "Az_0 = np.array([224.28, 337.32, 240., 250., 194.13])\n",
    "Az_f = np.array([308.74, 10.17, 330., 280., 224.16])\n",
    "Alt_0 = np.array([34., 37., 45., 30., 33.])\n",
    "Alt_f = np.array([17., 24., 40, 25., 30.])"
   ]
  },
  {
   "cell_type": "code",
   "execution_count": 132,
   "id": "68a8dc50",
   "metadata": {},
   "outputs": [],
   "source": [
    "lon_0, lat_0 = coord_transform(w_longitude, np.radians(w_latitude), np.radians(Az_0), np.radians(Alt_0))\n",
    "lon_f, lat_f = coord_transform(w_longitude, np.radians(w_latitude), np.radians(Az_f), np.radians(Alt_f))\n",
    "lon = np.linspace(-200, 0)\n",
    "lat = (av_slope*lon-50) -400\n",
    "slope = (lat_f - lat_0)/(lon_f-lon_0)\n",
    "av_slope = np.mean(slope)"
   ]
  },
  {
   "cell_type": "code",
   "execution_count": 138,
   "id": "948586f1",
   "metadata": {},
   "outputs": [
    {
     "data": {
      "text/plain": [
       "(-50.0, 90.0)"
      ]
     },
     "execution_count": 138,
     "metadata": {},
     "output_type": "execute_result"
    },
    {
     "data": {
      "image/png": "[encoded data removed]",
      "text/plain": [
       "<Figure size 432x288 with 1 Axes>"
      ]
     },
     "metadata": {
      "needs_background": "light"
     },
     "output_type": "display_data"
    }
   ],
   "source": [
    "#fig = plt.figure()\n",
    "#ax =fig.add_subplot(111, projection=\"aitoff\")\n",
    "plt.plot(w_longitude, w_latitude, \"ro\")\n",
    "i=1\n",
    "plt.plot(lon_0, lat_0, \"go\")\n",
    "max_lat_0 = np.max(lat_0)\n",
    "min_lat_f = np.min(lat_f)\n",
    "avg_lon0 = np.mean(lon_0)\n",
    "avg_lonf = np.mean(lon_f)\n",
    "std_lon0 = np.std(lon_0)\n",
    "std_lonf = np.std(lon_f)\n",
    "plt.fill_between(lon, (av_slope*lon+40) -400, (av_slope*lon-130) -400, alpha=0.3)\n",
    "plt.plot(lon, lat, \"r--\")\n",
    "for lon0, lonf, lat0, latf in zip(lon_0, lon_f, lat_0, lat_f):\n",
    "    plt.plot([lon0, lonf], [lat0, latf], label=\"Witness No. {}\".format(str(i)))\n",
    "    i+=1\n",
    "plt.xlim(-190, -90)\n",
    "plt.ylim(-50, 90)"
   ]
  },
  {
   "cell_type": "markdown",
   "id": "ced1a8ed",
   "metadata": {},
   "source": [
    "This one has better consistent trajectories. Is pretty obvious that different witnesses recorded the meteor trajectory in different moments of its trajectory. The average slope works fine when obtaining a plausible trajectory, but the uncertainties (marked by the shadowed zone) are not too clear how to obtain them. What if I add more witnesses data? If the slope of one of the events differs too much of the others. A mess could appear, so, what to do?"
   ]
  },
  {
   "cell_type": "code",
   "execution_count": 9,
   "id": "98680894",
   "metadata": {},
   "outputs": [],
   "source": []
  },
  {
   "cell_type": "code",
   "execution_count": null,
   "id": "fe3ccf44",
   "metadata": {},
   "outputs": [],
   "source": []
  },
  {
   "cell_type": "code",
   "execution_count": null,
   "id": "358b9965",
   "metadata": {},
   "outputs": [],
   "source": []
  },
  {
   "cell_type": "code",
   "execution_count": null,
   "id": "30696443",
   "metadata": {},
   "outputs": [],
   "source": []
  },
  {
   "cell_type": "code",
   "execution_count": null,
   "id": "bbf0ac2d",
   "metadata": {},
   "outputs": [],
   "source": []
  }
 ],
 "metadata": {
  "kernelspec": {
   "display_name": "Python 3 (ipykernel)",
   "language": "python",
   "name": "python3"
  },
  "language_info": {
   "codemirror_mode": {
    "name": "ipython",
    "version": 3
   },
   "file_extension": ".py",
   "mimetype": "text/x-python",
   "name": "python",
   "nbconvert_exporter": "python",
   "pygments_lexer": "ipython3",
   "version": "3.9.12"
  }
 },
 "nbformat": 4,
 "nbformat_minor": 5
}
