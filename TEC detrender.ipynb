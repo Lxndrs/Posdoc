{
 "cells": [
  {
   "cell_type": "markdown",
   "id": "918844e6",
   "metadata": {},
   "source": [
    "# TEC detrender for random days"
   ]
  },
  {
   "cell_type": "markdown",
   "id": "6555b600",
   "metadata": {},
   "source": [
    "The goal of this progrma is to get detrended time series TEC curves using the method\n",
    "Described by Pradipta et al. 2015. We expect that the resulting detrended TEC data show\n",
    "ionospheric perturbations in our dataset."
   ]
  },
  {
   "cell_type": "markdown",
   "id": "26b7e411",
   "metadata": {},
   "source": [
    "We found important perturbations in stations BOAV, KOUG and KOUR, but we also found that these stations were located in a position where the sunset occurred almost at the same time that the meteor fell. So I have the doubt if the detected perturbations are caused by the meteor itself or the solar terminator. To solve the doubt, we will detrend the GPS data of the same station (KOUG for beginning) for previous days (where clearly a meteor didn't fall, but soon enough for the solar terminator position don't change so much) and see if the same TIDs are detected. If we find nothing, we may be pretty sure that the TIDs are due to the meteor fall, but in the opposite case we may give up all the work I've done by two years."
   ]
  },
  {
   "cell_type": "code",
   "execution_count": 1,
   "id": "4aad4a47",
   "metadata": {},
   "outputs": [],
   "source": [
    "import numpy as np\n",
    "from astropy.table import Table\n",
    "import argparse\n",
    "import glob \n",
    "import matplotlib.pyplot as plt\n",
    "from scipy.interpolate import interp1d\n",
    "from scipy.signal import savgol_filter as savitsky\n",
    "from scipy.stats import mode"
   ]
  },
  {
   "cell_type": "markdown",
   "id": "d5ea5d95",
   "metadata": {},
   "source": [
    "## Useful functions"
   ]
  },
  {
   "cell_type": "code",
   "execution_count": 2,
   "id": "b8a82677",
   "metadata": {},
   "outputs": [],
   "source": [
    "def next_contact_point(x, y, x0, y0):\n",
    "    \"\"\"\n",
    "    Estimate the next contact point into the Barrell roll curve (BRC)\n",
    "    inputs:\n",
    "    x: scaled time.\n",
    "    y: scaled vTEC\n",
    "    x0: x pivot point\n",
    "    y0: y pivot point\n",
    "    output:\n",
    "    (xf, yf): coordinates of the next contact point\n",
    "    \"\"\"\n",
    "\t# Define region of interest\n",
    "    R0 = 1 # Radius of the barrell roll. Unitary radius works pretty well\n",
    "    ROI = (x > x0) & (x < x0 + 2*R0)\n",
    "\t# Delta_x and delta_y are the separation between the elements which belong to the ROI and (x0, y0)\n",
    "    delta_x = x[ROI]-x0\n",
    "    delta_y = y[ROI]-y0\n",
    "\n",
    "    try:\n",
    "\t      # calculating important angles\n",
    "        theta = np.arctan2(delta_y, delta_x)\n",
    "        cos_alpha = np.sqrt(delta_x**2 + delta_y**2)/(2*R0) \n",
    "        delta = np.arcsin(cos_alpha) - theta\n",
    "\t      # Selecting the Next Contact Point (NCP)\n",
    "        NCP = delta == min(delta) # The next contact point has the smallest angular distance delta\n",
    "        xf, yf = x0+delta_x[NCP][0], y0+delta_y[NCP][0]\n",
    "    except ValueError: # this happens because ROI is empty\n",
    "        xf, yf = x[~ROI & (x>x0)][0], y[~ROI & (x>x0)][0] #The element we will use as next contact point\n",
    "\t\t\t\t\t\t\t\t# is the first outside the ROI and greater than x0\n",
    "    return xf, yf"
   ]
  },
  {
   "cell_type": "code",
   "execution_count": 3,
   "id": "cdc5ab46",
   "metadata": {},
   "outputs": [],
   "source": [
    "def free_dep_signal(brc_x, brc_y, x, y):\n",
    "    \"\"\"\n",
    "    Create the free depletion signal.\n",
    "    Inputs:\n",
    "    (brc_x, brc_y): Barrel roll curve coordinates\n",
    "    (x, y): TEC curve \n",
    "    output:\n",
    "    (xf, yf): free depletion signal\n",
    "    \"\"\"\n",
    "    delta_1, delta_2 = 1, 3\n",
    "    BRC_plus = brc_y + delta_1\n",
    "    BRC_minus = brc_y - delta_2\n",
    "    int_bplus = interp1d(brc_x, BRC_plus)\n",
    "    int_bminus = interp1d(brc_x, BRC_minus)\n",
    "    mask = (y < int_bplus(x)) & (y> int_bminus(x))\n",
    "    xf, yf = x[mask], y[mask]\n",
    "    return xf, yf"
   ]
  },
  {
   "cell_type": "code",
   "execution_count": 4,
   "id": "3e2228cf",
   "metadata": {},
   "outputs": [],
   "source": [
    "def get_window_size(x):\n",
    "    \"\"\"\n",
    "    Get window size for the Savitzky-Golay filter. Must be an *odd* integer.\n",
    "    This module basically substracts 1 if x is an even number and keeps the number if x is odd\n",
    "    the output number is integer\n",
    "    \"\"\"\n",
    "    return int(2*np.ceil(x/2.)-1)"
   ]
  },
  {
   "cell_type": "code",
   "execution_count": 5,
   "id": "267580c7",
   "metadata": {},
   "outputs": [],
   "source": [
    "def split_PRN(t, TEC):\n",
    "    \"\"\"\n",
    "    Split a discontinuos PRN into pieces and return the biggest ones\n",
    "    inputs:\n",
    "    t, TEC: arrays to be split. t --> time , TEC --> vTEC\n",
    "    outputs:\n",
    "    output_t, output_TEC --> 2D arrays which contain the fragmented curve\n",
    "    \"\"\"\n",
    "\n",
    "    index_discontinuity =[]\n",
    "    gradient_t = np.gradient(t)\n",
    "    for i, dt in enumerate(gradient_t):\n",
    "        if dt > 0.01: # 0.01 is like 10 times the regular GPS frequency\n",
    "            index_discontinuity.append(i) # collect the indices where time gradient is big enough\n",
    "        split_t = np.split(t, index_discontinuity)\n",
    "        split_TEC = np.split(TEC, index_discontinuity)\n",
    "        output_t = []\n",
    "        output_TEC =[]\n",
    "        for s, tec in zip(split_t, split_TEC):\n",
    "            if len(s) > 20: #if the subarray contain too few elements will be discarded\n",
    "                output_t.append(s)\n",
    "                output_TEC.append(tec)\n",
    "        return output_t, output_TEC"
   ]
  },
  {
   "cell_type": "markdown",
   "id": "b66370a8",
   "metadata": {},
   "source": [
    "## Load data for KOUG station, one of the stations near the solar terminator"
   ]
  },
  {
   "cell_type": "code",
   "execution_count": 6,
   "id": "d6cf4312",
   "metadata": {},
   "outputs": [],
   "source": [
    "f = open(\"./data/2019-06-22/set5/previous/koug169-2019-06-18.Cmn\", \"r\")"
   ]
  },
  {
   "cell_type": "code",
   "execution_count": 7,
   "id": "369b3823",
   "metadata": {},
   "outputs": [],
   "source": [
    "for i in range(3):\n",
    "    f.readline()\n",
    "raw_data = f.readlines()"
   ]
  },
  {
   "cell_type": "code",
   "execution_count": 8,
   "id": "3ccf9420",
   "metadata": {},
   "outputs": [
    {
     "data": {
      "text/plain": [
       "['MJdatet', 'Time', 'PRN', 'Az', 'Ele', 'Lat', 'Lon', 'Stec', 'Vtec', 'S4']"
      ]
     },
     "execution_count": 8,
     "metadata": {},
     "output_type": "execute_result"
    }
   ],
   "source": [
    "data = Table.read(raw_data, format=\"ascii\")\n",
    "data.keys()"
   ]
  },
  {
   "cell_type": "markdown",
   "id": "84ae1e66",
   "metadata": {},
   "source": [
    "## Extract relevant information from files"
   ]
  },
  {
   "cell_type": "code",
   "execution_count": 9,
   "id": "1fb85bbd",
   "metadata": {},
   "outputs": [],
   "source": [
    "starttime = 21+25/60.+48./3600\n",
    "fh = 200\n",
    "fl = 150\n",
    "time = data[\"Time\"]\n",
    "PRN = data[\"PRN\"]\n",
    "TEC = data[\"Stec\"]\n",
    "t_corrector = time < 0\n",
    "time[t_corrector] = time[t_corrector] + 24.0\n",
    "tau_0, zeta_0 = 2.0, 40.0\n",
    "prn_array = np.unique(PRN)\n",
    "time_mask = (time < starttime +fh/60.) & (time > starttime -fl/60.)"
   ]
  },
  {
   "cell_type": "markdown",
   "id": "f2e63e8f",
   "metadata": {},
   "source": [
    "## Create arrays for final information"
   ]
  },
  {
   "cell_type": "code",
   "execution_count": 10,
   "id": "c8eeb871",
   "metadata": {},
   "outputs": [],
   "source": [
    "final_time = []\n",
    "final_PRN = []\n",
    "final_TEC = []"
   ]
  },
  {
   "cell_type": "markdown",
   "id": "ba393643",
   "metadata": {},
   "source": [
    "## Start loop over PRNs"
   ]
  },
  {
   "cell_type": "code",
   "execution_count": 11,
   "id": "e56a138f",
   "metadata": {},
   "outputs": [
    {
     "name": "stderr",
     "output_type": "stream",
     "text": [
      "/tmp/ipykernel_11823/3093323418.py:23: RuntimeWarning: invalid value encountered in arcsin\n",
      "  delta = np.arcsin(cos_alpha) - theta\n"
     ]
    }
   ],
   "source": [
    "for p in prn_array:\n",
    "    PRN_mask = PRN == p\n",
    "    filtered_time = time[PRN_mask & time_mask]\n",
    "    filtered_TEC = TEC[PRN_mask & time_mask]\n",
    "    if (len(filtered_time)<20):\n",
    "        continue\n",
    "# Split the signal into fragments\n",
    "    S_time, S_TEC = split_PRN(filtered_time, filtered_TEC)\n",
    "    for s, tec in zip(S_time, S_TEC):\n",
    "        X, Y = s/tau_0, tec/zeta_0\n",
    "        x_0, y_0 = X[0], Y[0]\n",
    "        BRC_x, BRC_y = [x_0], [y_0]\n",
    "        try:\n",
    "            while(x_0 < X[-1]):\n",
    "                xn, yn = next_contact_point(X, Y, x_0, y_0)\n",
    "                BRC_x.append(xn)\n",
    "                BRC_y.append(yn)\n",
    "                x_0, y_0 = xn, yn\n",
    "        except IndexError:\n",
    "            print(\"Skip to next PRN\")\n",
    "            continue\n",
    "# Return to the time-TEC space\n",
    "        brc_t, brc_vt = np.array(BRC_x)*tau_0, np.array(BRC_y)*zeta_0\n",
    "        fdp_x, fdp_y = free_dep_signal(brc_t, brc_vt, s, tec)  \n",
    "# Get trend\n",
    "        y_trend = savitsky(tec, window_length=get_window_size(0.25*len(tec)), polyorder=3)\n",
    "        residuals = np.sum((y_trend-tec)**2)/len(tec)\n",
    "# Detrend signal\n",
    "        det_signal = tec - y_trend\n",
    "        mean = np.mean(det_signal)\n",
    "        for ft, d in zip(s, det_signal): # Fill output lists\n",
    "            final_TEC.append(d)\n",
    "            final_time.append(ft)          \n",
    "            final_PRN.append(p)\n",
    "output_table = Table([final_time, final_PRN, final_TEC], names=(\"Time\", \"PRN\", \"sTEC\"))\n",
    "output_table.write(\"KOUG-2019-06-18.csv\", format=\"csv\", overwrite=True)"
   ]
  },
  {
   "cell_type": "markdown",
   "id": "f241c317",
   "metadata": {},
   "source": [
    "# Second part: plot time series from detrended data"
   ]
  },
  {
   "cell_type": "code",
   "execution_count": 12,
   "id": "09f9ede5",
   "metadata": {},
   "outputs": [],
   "source": [
    "import pandas as pd\n",
    "import seaborn as sns"
   ]
  },
  {
   "cell_type": "code",
   "execution_count": 28,
   "id": "020387d1",
   "metadata": {},
   "outputs": [
    {
     "data": {
      "text/html": [
       "<div>\n",
       "<style scoped>\n",
       "    .dataframe tbody tr th:only-of-type {\n",
       "        vertical-align: middle;\n",
       "    }\n",
       "\n",
       "    .dataframe tbody tr th {\n",
       "        vertical-align: top;\n",
       "    }\n",
       "\n",
       "    .dataframe thead th {\n",
       "        text-align: right;\n",
       "    }\n",
       "</style>\n",
       "<table border=\"1\" class=\"dataframe\">\n",
       "  <thead>\n",
       "    <tr style=\"text-align: right;\">\n",
       "      <th></th>\n",
       "      <th>Time</th>\n",
       "      <th>PRN</th>\n",
       "      <th>sTEC</th>\n",
       "    </tr>\n",
       "  </thead>\n",
       "  <tbody>\n",
       "    <tr>\n",
       "      <th>0</th>\n",
       "      <td>18.933333</td>\n",
       "      <td>2</td>\n",
       "      <td>-0.106510</td>\n",
       "    </tr>\n",
       "    <tr>\n",
       "      <th>1</th>\n",
       "      <td>18.941667</td>\n",
       "      <td>2</td>\n",
       "      <td>-0.141038</td>\n",
       "    </tr>\n",
       "    <tr>\n",
       "      <th>2</th>\n",
       "      <td>18.950000</td>\n",
       "      <td>2</td>\n",
       "      <td>-0.122278</td>\n",
       "    </tr>\n",
       "    <tr>\n",
       "      <th>3</th>\n",
       "      <td>18.958333</td>\n",
       "      <td>2</td>\n",
       "      <td>-0.110266</td>\n",
       "    </tr>\n",
       "    <tr>\n",
       "      <th>4</th>\n",
       "      <td>18.966667</td>\n",
       "      <td>2</td>\n",
       "      <td>-0.175038</td>\n",
       "    </tr>\n",
       "    <tr>\n",
       "      <th>5</th>\n",
       "      <td>18.975000</td>\n",
       "      <td>2</td>\n",
       "      <td>-0.256631</td>\n",
       "    </tr>\n",
       "    <tr>\n",
       "      <th>6</th>\n",
       "      <td>18.983333</td>\n",
       "      <td>2</td>\n",
       "      <td>-0.255081</td>\n",
       "    </tr>\n",
       "    <tr>\n",
       "      <th>7</th>\n",
       "      <td>18.991667</td>\n",
       "      <td>2</td>\n",
       "      <td>-0.210425</td>\n",
       "    </tr>\n",
       "    <tr>\n",
       "      <th>8</th>\n",
       "      <td>19.000000</td>\n",
       "      <td>2</td>\n",
       "      <td>-0.142700</td>\n",
       "    </tr>\n",
       "    <tr>\n",
       "      <th>9</th>\n",
       "      <td>19.008333</td>\n",
       "      <td>2</td>\n",
       "      <td>-0.151942</td>\n",
       "    </tr>\n",
       "    <tr>\n",
       "      <th>10</th>\n",
       "      <td>19.016667</td>\n",
       "      <td>2</td>\n",
       "      <td>-0.138186</td>\n",
       "    </tr>\n",
       "    <tr>\n",
       "      <th>11</th>\n",
       "      <td>19.025000</td>\n",
       "      <td>2</td>\n",
       "      <td>-0.111471</td>\n",
       "    </tr>\n",
       "    <tr>\n",
       "      <th>12</th>\n",
       "      <td>19.033333</td>\n",
       "      <td>2</td>\n",
       "      <td>-0.081832</td>\n",
       "    </tr>\n",
       "    <tr>\n",
       "      <th>13</th>\n",
       "      <td>19.041667</td>\n",
       "      <td>2</td>\n",
       "      <td>-0.039306</td>\n",
       "    </tr>\n",
       "    <tr>\n",
       "      <th>14</th>\n",
       "      <td>19.050000</td>\n",
       "      <td>2</td>\n",
       "      <td>-0.043929</td>\n",
       "    </tr>\n",
       "  </tbody>\n",
       "</table>\n",
       "</div>"
      ],
      "text/plain": [
       "         Time  PRN      sTEC\n",
       "0   18.933333    2 -0.106510\n",
       "1   18.941667    2 -0.141038\n",
       "2   18.950000    2 -0.122278\n",
       "3   18.958333    2 -0.110266\n",
       "4   18.966667    2 -0.175038\n",
       "5   18.975000    2 -0.256631\n",
       "6   18.983333    2 -0.255081\n",
       "7   18.991667    2 -0.210425\n",
       "8   19.000000    2 -0.142700\n",
       "9   19.008333    2 -0.151942\n",
       "10  19.016667    2 -0.138186\n",
       "11  19.025000    2 -0.111471\n",
       "12  19.033333    2 -0.081832\n",
       "13  19.041667    2 -0.039306\n",
       "14  19.050000    2 -0.043929"
      ]
     },
     "execution_count": 28,
     "metadata": {},
     "output_type": "execute_result"
    }
   ],
   "source": [
    "csv_data = pd.read_csv(\"KOUG-2019-06-20.csv\")\n",
    "csv_data.head(15)"
   ]
  },
  {
   "cell_type": "code",
   "execution_count": 29,
   "id": "12060b74",
   "metadata": {},
   "outputs": [
    {
     "data": {
      "text/plain": [
       "array([ 2,  3,  4,  5,  6,  7,  8,  9, 11, 12, 13, 15, 17, 19, 23, 24, 28,\n",
       "       29, 30])"
      ]
     },
     "execution_count": 29,
     "metadata": {},
     "output_type": "execute_result"
    }
   ],
   "source": [
    "prn_list = np.unique(csv_data[\"PRN\"])\n",
    "prn_list"
   ]
  },
  {
   "cell_type": "code",
   "execution_count": 30,
   "id": "5991ff9d",
   "metadata": {},
   "outputs": [
    {
     "data": {
      "image/png": "[encoded data removed]",
      "text/plain": [
       "<Figure size 432x288 with 1 Axes>"
      ]
     },
     "metadata": {},
     "output_type": "display_data"
    }
   ],
   "source": [
    "sns.set_style(\"whitegrid\")\n",
    "prn_mask = csv_data[\"PRN\"]==12\n",
    "csv_time = csv_data[\"Time\"][prn_mask]\n",
    "csv_TEC = csv_data[\"sTEC\"][prn_mask]\n",
    "plt.axvline(starttime, ls=\"--\", c=\"k\")\n",
    "plt.axhline(0, ls=\"--\", c=\"k\")\n",
    "plt.plot(csv_time, csv_TEC, \".\", ms=0.8)\n",
    "plt.xlabel(\"UT (hours)\", fontsize=\"large\")\n",
    "plt.ylabel(\"sTEC (TECU)\", fontsize=\"large\")\n",
    "plt.title(\"2019-06-20. KOUG PRN 12\", fontsize=\"large\")\n",
    "plt.ylim(-2.8, 2.8)\n",
    "plt.savefig(\"./paper/figures/KOUG_2019-06-20_PRN12.pdf\")"
   ]
  },
  {
   "cell_type": "markdown",
   "id": "bb49bb27",
   "metadata": {},
   "source": [
    "As a preliminar conclusion I found out that solar terminator does perturb the ionosphere, but this effect is weak in comparison with the meteor passage. Neverthless, studying previous days time series may help us to discriminate between real detections from \"crappy detections\" (wave-like features that are just noise)."
   ]
  },
  {
   "cell_type": "code",
   "execution_count": null,
   "id": "fd8e1309",
   "metadata": {},
   "outputs": [],
   "source": []
  }
 ],
 "metadata": {
  "kernelspec": {
   "display_name": "Python 3 (ipykernel)",
   "language": "python",
   "name": "python3"
  },
  "language_info": {
   "codemirror_mode": {
    "name": "ipython",
    "version": 3
   },
   "file_extension": ".py",
   "mimetype": "text/x-python",
   "name": "python",
   "nbconvert_exporter": "python",
   "pygments_lexer": "ipython3",
   "version": "3.9.12"
  }
 },
 "nbformat": 4,
 "nbformat_minor": 5
}
