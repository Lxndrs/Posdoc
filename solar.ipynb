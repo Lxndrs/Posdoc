{
 "cells": [
  {
   "cell_type": "code",
   "execution_count": 3,
   "metadata": {},
   "outputs": [],
   "source": [
    "%matplotlib inline"
   ]
  },
  {
   "cell_type": "markdown",
   "metadata": {},
   "source": [
    "\n",
    "# Day-night terminator line and twilights\n",
    "\n",
    "Use :meth:`pygmt.Figure.solar` to show the different transition stages between\n",
    "daytime and nighttime. The parameter ``terminator`` is used to set the twilight\n",
    "stage, and can be either 'day-night' (brightest), 'civil', 'nautical', or\n",
    "'astronomical' (darkest). Refer to https://en.wikipedia.org/wiki/Twilight for\n",
    "more information.\n"
   ]
  },
  {
   "cell_type": "code",
   "execution_count": 4,
   "metadata": {},
   "outputs": [
    {
     "ename": "GMTCLibNotFoundError",
     "evalue": "Error loading GMT shared library at 'libgmt.so'.\nlibgmt.so: cannot open shared object file: No such file or directory",
     "output_type": "error",
     "traceback": [
      "\u001b[0;31m---------------------------------------------------------------------------\u001b[0m",
      "\u001b[0;31mGMTCLibNotFoundError\u001b[0m                      Traceback (most recent call last)",
      "Input \u001b[0;32mIn [4]\u001b[0m, in \u001b[0;36m<cell line: 3>\u001b[0;34m()\u001b[0m\n\u001b[1;32m      1\u001b[0m \u001b[38;5;28;01mimport\u001b[39;00m \u001b[38;5;21;01mdatetime\u001b[39;00m\n\u001b[0;32m----> 3\u001b[0m \u001b[38;5;28;01mimport\u001b[39;00m \u001b[38;5;21;01mpygmt\u001b[39;00m\n\u001b[1;32m      5\u001b[0m fig \u001b[38;5;241m=\u001b[39m pygmt\u001b[38;5;241m.\u001b[39mFigure()\n\u001b[1;32m      6\u001b[0m \u001b[38;5;66;03m# Create a figure showing the global region on a Mollweide projection\u001b[39;00m\n\u001b[1;32m      7\u001b[0m \u001b[38;5;66;03m# Land color is set to dark green and water color is set to light blue\u001b[39;00m\n",
      "File \u001b[0;32m~/anaconda3/lib/python3.9/site-packages/pygmt/__init__.py:74\u001b[0m, in \u001b[0;36m<module>\u001b[0;34m\u001b[0m\n\u001b[1;32m     71\u001b[0m __commit__ \u001b[38;5;241m=\u001b[39m __version__\u001b[38;5;241m.\u001b[39msplit(\u001b[38;5;124m\"\u001b[39m\u001b[38;5;124m+g\u001b[39m\u001b[38;5;124m\"\u001b[39m)[\u001b[38;5;241m-\u001b[39m\u001b[38;5;241m1\u001b[39m] \u001b[38;5;28;01mif\u001b[39;00m \u001b[38;5;124m\"\u001b[39m\u001b[38;5;124m+g\u001b[39m\u001b[38;5;124m\"\u001b[39m \u001b[38;5;129;01min\u001b[39;00m __version__ \u001b[38;5;28;01melse\u001b[39;00m \u001b[38;5;124m\"\u001b[39m\u001b[38;5;124m\"\u001b[39m  \u001b[38;5;66;03m# 0ab3cd78\u001b[39;00m\n\u001b[1;32m     73\u001b[0m \u001b[38;5;66;03m# Start our global modern mode session\u001b[39;00m\n\u001b[0;32m---> 74\u001b[0m \u001b[43m_begin\u001b[49m\u001b[43m(\u001b[49m\u001b[43m)\u001b[49m\n\u001b[1;32m     75\u001b[0m \u001b[38;5;66;03m# Tell Python to run _end when shutting down\u001b[39;00m\n\u001b[1;32m     76\u001b[0m _atexit\u001b[38;5;241m.\u001b[39mregister(_end)\n",
      "File \u001b[0;32m~/anaconda3/lib/python3.9/site-packages/pygmt/session_management.py:16\u001b[0m, in \u001b[0;36mbegin\u001b[0;34m()\u001b[0m\n\u001b[1;32m      8\u001b[0m \u001b[38;5;124;03m\"\"\"\u001b[39;00m\n\u001b[1;32m      9\u001b[0m \u001b[38;5;124;03mInitiate a new GMT modern mode session.\u001b[39;00m\n\u001b[1;32m     10\u001b[0m \n\u001b[0;32m   (...)\u001b[0m\n\u001b[1;32m     13\u001b[0m \u001b[38;5;124;03mOnly meant to be used once for creating the global session.\u001b[39;00m\n\u001b[1;32m     14\u001b[0m \u001b[38;5;124;03m\"\"\"\u001b[39;00m\n\u001b[1;32m     15\u001b[0m prefix \u001b[38;5;241m=\u001b[39m \u001b[38;5;124m\"\u001b[39m\u001b[38;5;124mpygmt-session\u001b[39m\u001b[38;5;124m\"\u001b[39m\n\u001b[0;32m---> 16\u001b[0m \u001b[38;5;28;01mwith\u001b[39;00m Session() \u001b[38;5;28;01mas\u001b[39;00m lib:\n\u001b[1;32m     17\u001b[0m     lib\u001b[38;5;241m.\u001b[39mcall_module(module\u001b[38;5;241m=\u001b[39m\u001b[38;5;124m\"\u001b[39m\u001b[38;5;124mbegin\u001b[39m\u001b[38;5;124m\"\u001b[39m, args\u001b[38;5;241m=\u001b[39mprefix)\n\u001b[1;32m     18\u001b[0m     \u001b[38;5;66;03m# pygmt relies on GMT modern mode with GMT_COMPATIBILITY at version 6\u001b[39;00m\n",
      "File \u001b[0;32m~/anaconda3/lib/python3.9/site-packages/pygmt/clib/session.py:187\u001b[0m, in \u001b[0;36mSession.__enter__\u001b[0;34m(self)\u001b[0m\n\u001b[1;32m    174\u001b[0m \u001b[38;5;28;01mdef\u001b[39;00m \u001b[38;5;21m__enter__\u001b[39m(\u001b[38;5;28mself\u001b[39m):\n\u001b[1;32m    175\u001b[0m     \u001b[38;5;124;03m\"\"\"\u001b[39;00m\n\u001b[1;32m    176\u001b[0m \u001b[38;5;124;03m    Create a GMT API session and check the libgmt version.\u001b[39;00m\n\u001b[1;32m    177\u001b[0m \n\u001b[0;32m   (...)\u001b[0m\n\u001b[1;32m    185\u001b[0m \u001b[38;5;124;03m        raising the exception.\u001b[39;00m\n\u001b[1;32m    186\u001b[0m \u001b[38;5;124;03m    \"\"\"\u001b[39;00m\n\u001b[0;32m--> 187\u001b[0m     \u001b[38;5;28;43mself\u001b[39;49m\u001b[38;5;241;43m.\u001b[39;49m\u001b[43mcreate\u001b[49m\u001b[43m(\u001b[49m\u001b[38;5;124;43m\"\u001b[39;49m\u001b[38;5;124;43mpygmt-session\u001b[39;49m\u001b[38;5;124;43m\"\u001b[39;49m\u001b[43m)\u001b[49m\n\u001b[1;32m    188\u001b[0m     \u001b[38;5;66;03m# Need to store the version info because 'get_default' won't work after\u001b[39;00m\n\u001b[1;32m    189\u001b[0m     \u001b[38;5;66;03m# the session is destroyed.\u001b[39;00m\n\u001b[1;32m    190\u001b[0m     version \u001b[38;5;241m=\u001b[39m \u001b[38;5;28mself\u001b[39m\u001b[38;5;241m.\u001b[39minfo[\u001b[38;5;124m\"\u001b[39m\u001b[38;5;124mversion\u001b[39m\u001b[38;5;124m\"\u001b[39m]\n",
      "File \u001b[0;32m~/anaconda3/lib/python3.9/site-packages/pygmt/clib/session.py:334\u001b[0m, in \u001b[0;36mSession.create\u001b[0;34m(self, name)\u001b[0m\n\u001b[1;32m    331\u001b[0m \u001b[38;5;28;01mexcept\u001b[39;00m GMTCLibNoSessionError:\n\u001b[1;32m    332\u001b[0m     \u001b[38;5;28;01mpass\u001b[39;00m\n\u001b[0;32m--> 334\u001b[0m c_create_session \u001b[38;5;241m=\u001b[39m \u001b[38;5;28;43mself\u001b[39;49m\u001b[38;5;241;43m.\u001b[39;49m\u001b[43mget_libgmt_func\u001b[49m\u001b[43m(\u001b[49m\n\u001b[1;32m    335\u001b[0m \u001b[43m    \u001b[49m\u001b[38;5;124;43m\"\u001b[39;49m\u001b[38;5;124;43mGMT_Create_Session\u001b[39;49m\u001b[38;5;124;43m\"\u001b[39;49m\u001b[43m,\u001b[49m\n\u001b[1;32m    336\u001b[0m \u001b[43m    \u001b[49m\u001b[43margtypes\u001b[49m\u001b[38;5;241;43m=\u001b[39;49m\u001b[43m[\u001b[49m\u001b[43mctp\u001b[49m\u001b[38;5;241;43m.\u001b[39;49m\u001b[43mc_char_p\u001b[49m\u001b[43m,\u001b[49m\u001b[43m \u001b[49m\u001b[43mctp\u001b[49m\u001b[38;5;241;43m.\u001b[39;49m\u001b[43mc_uint\u001b[49m\u001b[43m,\u001b[49m\u001b[43m \u001b[49m\u001b[43mctp\u001b[49m\u001b[38;5;241;43m.\u001b[39;49m\u001b[43mc_uint\u001b[49m\u001b[43m,\u001b[49m\u001b[43m \u001b[49m\u001b[43mctp\u001b[49m\u001b[38;5;241;43m.\u001b[39;49m\u001b[43mc_void_p\u001b[49m\u001b[43m]\u001b[49m\u001b[43m,\u001b[49m\n\u001b[1;32m    337\u001b[0m \u001b[43m    \u001b[49m\u001b[43mrestype\u001b[49m\u001b[38;5;241;43m=\u001b[39;49m\u001b[43mctp\u001b[49m\u001b[38;5;241;43m.\u001b[39;49m\u001b[43mc_void_p\u001b[49m\u001b[43m,\u001b[49m\n\u001b[1;32m    338\u001b[0m \u001b[43m\u001b[49m\u001b[43m)\u001b[49m\n\u001b[1;32m    340\u001b[0m \u001b[38;5;66;03m# Capture the output printed by GMT into this list. Will use it later\u001b[39;00m\n\u001b[1;32m    341\u001b[0m \u001b[38;5;66;03m# to generate error messages for the exceptions raised by API calls.\u001b[39;00m\n\u001b[1;32m    342\u001b[0m \u001b[38;5;28mself\u001b[39m\u001b[38;5;241m.\u001b[39m_error_log \u001b[38;5;241m=\u001b[39m []  \u001b[38;5;66;03m# pylint: disable=attribute-defined-outside-init\u001b[39;00m\n",
      "File \u001b[0;32m~/anaconda3/lib/python3.9/site-packages/pygmt/clib/session.py:286\u001b[0m, in \u001b[0;36mSession.get_libgmt_func\u001b[0;34m(self, name, argtypes, restype)\u001b[0m\n\u001b[1;32m    249\u001b[0m \u001b[38;5;124;03m\"\"\"\u001b[39;00m\n\u001b[1;32m    250\u001b[0m \u001b[38;5;124;03mGet a ctypes function from the libgmt shared library.\u001b[39;00m\n\u001b[1;32m    251\u001b[0m \n\u001b[0;32m   (...)\u001b[0m\n\u001b[1;32m    282\u001b[0m \u001b[38;5;124;03m<class 'ctypes.CDLL.__init__.<locals>._FuncPtr'>\u001b[39;00m\n\u001b[1;32m    283\u001b[0m \u001b[38;5;124;03m\"\"\"\u001b[39;00m\n\u001b[1;32m    284\u001b[0m \u001b[38;5;28;01mif\u001b[39;00m \u001b[38;5;129;01mnot\u001b[39;00m \u001b[38;5;28mhasattr\u001b[39m(\u001b[38;5;28mself\u001b[39m, \u001b[38;5;124m\"\u001b[39m\u001b[38;5;124m_libgmt\u001b[39m\u001b[38;5;124m\"\u001b[39m):\n\u001b[1;32m    285\u001b[0m     \u001b[38;5;66;03m# pylint: disable=attribute-defined-outside-init\u001b[39;00m\n\u001b[0;32m--> 286\u001b[0m     \u001b[38;5;28mself\u001b[39m\u001b[38;5;241m.\u001b[39m_libgmt \u001b[38;5;241m=\u001b[39m \u001b[43mload_libgmt\u001b[49m\u001b[43m(\u001b[49m\u001b[43m)\u001b[49m\n\u001b[1;32m    287\u001b[0m function \u001b[38;5;241m=\u001b[39m \u001b[38;5;28mgetattr\u001b[39m(\u001b[38;5;28mself\u001b[39m\u001b[38;5;241m.\u001b[39m_libgmt, name)\n\u001b[1;32m    288\u001b[0m \u001b[38;5;28;01mif\u001b[39;00m argtypes \u001b[38;5;129;01mis\u001b[39;00m \u001b[38;5;129;01mnot\u001b[39;00m \u001b[38;5;28;01mNone\u001b[39;00m:\n",
      "File \u001b[0;32m~/anaconda3/lib/python3.9/site-packages/pygmt/clib/loading.py:59\u001b[0m, in \u001b[0;36mload_libgmt\u001b[0;34m(lib_fullnames)\u001b[0m\n\u001b[1;32m     56\u001b[0m         failing_libs\u001b[38;5;241m.\u001b[39mappend(libname)\n\u001b[1;32m     58\u001b[0m \u001b[38;5;28;01mif\u001b[39;00m error:\n\u001b[0;32m---> 59\u001b[0m     \u001b[38;5;28;01mraise\u001b[39;00m GMTCLibNotFoundError(\u001b[38;5;124m\"\u001b[39m\u001b[38;5;130;01m\\n\u001b[39;00m\u001b[38;5;124m\"\u001b[39m\u001b[38;5;241m.\u001b[39mjoin(error_msg))\n\u001b[1;32m     61\u001b[0m \u001b[38;5;28;01mreturn\u001b[39;00m libgmt\n",
      "\u001b[0;31mGMTCLibNotFoundError\u001b[0m: Error loading GMT shared library at 'libgmt.so'.\nlibgmt.so: cannot open shared object file: No such file or directory"
     ]
    }
   ],
   "source": [
    "import datetime\n",
    "\n",
    "import pygmt\n",
    "\n",
    "fig = pygmt.Figure()\n",
    "# Create a figure showing the global region on a Mollweide projection\n",
    "# Land color is set to dark green and water color is set to light blue\n",
    "fig.coast(region=\"d\", projection=\"W0/15c\", land=\"darkgreen\", water=\"lightblue\")\n",
    "# Set a time for the day-night terminator and twilights, 1700 UTC on\n",
    "# January 1, 2000\n",
    "terminator_datetime = datetime.datetime(\n",
    "    year=2000, month=1, day=1, hour=17, minute=0, second=0\n",
    ")\n",
    "# Set the pen line to be 0.5p thick\n",
    "# Set the fill for the night area to be navy blue at different transparency\n",
    "# levels\n",
    "fig.solar(\n",
    "    terminator=\"day_night\",\n",
    "    terminator_datetime=terminator_datetime,\n",
    "    fill=\"navyblue@95\",\n",
    "    pen=\"0.5p\",\n",
    ")\n",
    "fig.solar(\n",
    "    terminator=\"civil\",\n",
    "    terminator_datetime=terminator_datetime,\n",
    "    fill=\"navyblue@85\",\n",
    "    pen=\"0.5p\",\n",
    ")\n",
    "fig.solar(\n",
    "    terminator=\"nautical\",\n",
    "    terminator_datetime=terminator_datetime,\n",
    "    fill=\"navyblue@80\",\n",
    "    pen=\"0.5p\",\n",
    ")\n",
    "fig.solar(\n",
    "    terminator=\"astronomical\",\n",
    "    terminator_datetime=terminator_datetime,\n",
    "    fill=\"navyblue@80\",\n",
    "    pen=\"0.5p\",\n",
    ")\n",
    "fig.show()"
   ]
  }
 ],
 "metadata": {
  "kernelspec": {
   "display_name": "Python 3 (ipykernel)",
   "language": "python",
   "name": "python3"
  },
  "language_info": {
   "codemirror_mode": {
    "name": "ipython",
    "version": 3
   },
   "file_extension": ".py",
   "mimetype": "text/x-python",
   "name": "python",
   "nbconvert_exporter": "python",
   "pygments_lexer": "ipython3",
   "version": "3.9.12"
  }
 },
 "nbformat": 4,
 "nbformat_minor": 1
}
